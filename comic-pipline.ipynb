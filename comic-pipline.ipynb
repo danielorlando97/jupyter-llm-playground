{
 "cells": [
  {
   "cell_type": "code",
   "execution_count": 1,
   "metadata": {},
   "outputs": [],
   "source": [
    "import openai\n",
    "from IPython.display import Image\n",
    "from typing import Literal, Union\n",
    "import re\n",
    "from src.text.open_ai import OpenAITextGeneration, OpenAITextModelConfig"
   ]
  },
  {
   "cell_type": "code",
   "execution_count": 2,
   "metadata": {},
   "outputs": [],
   "source": [
    "text_model = OpenAITextGeneration()"
   ]
  },
  {
   "cell_type": "code",
   "execution_count": 3,
   "metadata": {},
   "outputs": [
    {
     "name": "stdout",
     "output_type": "stream",
     "text": [
      "Once upon a time , there lived a young child in a small village. This child had a passion for exploring the forest and often ventured deep into the woods, far away from their village. One day, while exploring, the child stumbled upon a mysterious cave that seemed to have been forgotten by time. \n",
      "\n",
      "The child ventured inside and discovered that the cave was filled with beautiful crystals and gems of all colors. The child was mesmerized by the sparkling jewels and continued to explore. Eventually, the child found a secret door that led to an even bigger room filled with even more gems and jewels. \n",
      "\n",
      "The child was excited and filled their pockets with the precious stones, not knowing how valuable they were. As the child left the cave, they heard a loud voice calling out to them. The voice belonged to an old wizard who had been watching the child from the shadows. The wizard informed the child that the gems and jewels were sacred and belonged to the forest. \n",
      "\n",
      "The wizard explained that the gems and jewels were the life force of the forest and that it was wrong for the child to take them away. The wizard then asked the child to return the jewels and gems to their rightful place in the forest. The child, understanding the importance of what the wizard was saying, humbly returned the gems to the cave. \n",
      "\n",
      "The old wizard was pleased and thanked the child for their respect and understanding. From that day on, the child continued to explore the forest, but with a newfound appreciation and respect for the beauty and life within it. \n",
      "\n",
      "Moral of the story: Respect nature and the things that live within it.\n"
     ]
    }
   ],
   "source": [
    "GET_COMICS = \"\"\"This is a bot to write long stories for children.\n",
    "    \n",
    "Context: The bot's stories usually have a very important lesson for children. Today the bot will talk them about {prompt}\n",
    "\n",
    "Story:\n",
    "Once upon a time\"\"\"\n",
    "\n",
    "prompt = 'A child in the forest'\n",
    "comics = text_model.text2text(GET_COMICS.format(prompt=prompt))\n",
    "comics = \"Once upon a time \" + comics\n",
    "print(comics)\n"
   ]
  },
  {
   "cell_type": "code",
   "execution_count": 4,
   "metadata": {},
   "outputs": [
    {
     "name": "stdout",
     "output_type": "stream",
     "text": [
      "1-Once upon a time , there lived a young child in a small village. This child had a passion for exploring the forest and often ventured deep into the woods, far away from their village.\n",
      "2-One day, while exploring, the child stumbled upon a mysterious cave that seemed to have been forgotten by time.\n",
      "3-The child ventured inside and discovered that the cave was filled with beautiful crystals and gems of all colors. \n",
      "4-The child was mesmerized by the sparkling jewels and continued to explore.\n",
      "5-Eventually, the child found a secret door that led to an even bigger room filled with even more gems and jewels. \n",
      "6-The child was excited and filled their pockets with the precious stones, not knowing how valuable they were. \n",
      "7-As the child left the cave, they heard a loud voice calling out to them. The voice belonged to an old wizard who had been watching the child from the shadows. \n",
      "8-The wizard informed the child that the gems and jewels were sacred and belonged to the forest. \n",
      "9-The wizard explained that the gems and jewels were the life force of the forest and that it was wrong for the child to take them away.\n",
      "10-The wizard then asked the child to return the jewels and gems to their rightful place in the forest.\n",
      "11-The child, understanding the importance of what the wizard was saying, humbly returned the gems to the cave.\n",
      "12-The old wizard was pleased and thanked the child for their respect and understanding.\n",
      "13-From that day on, the child continued to explore the forest, but with a newfound appreciation and respect for the beauty and life within it.\n"
     ]
    }
   ],
   "source": [
    "GET_SPLIT = \"\"\"This is a bot to split stories in principal frames.\n",
    "    \n",
    "Story:\n",
    "Manuel was a very curious little boy. One day, he saw a sign that said \"Beware of the forest\" and he wanted to see what was inside. So he went in.\n",
    "\n",
    "Answer:\n",
    "1-Manuel was a very curious little boy. One day, he saw a sign that said \"Beware of the forest\"\n",
    "2-He wanted to see what was inside. So he went in.\n",
    "\n",
    "Story:\n",
    "Manuel saw all kinds of animals in the forest. He saw a deer, a rabbit, and even a bear! He was so excited to see all of these animals.\n",
    "But then, Manuel saw a big, scary snake. The snake was coiled up and ready to strike. Manuel was so scared that he ran out of the forest as fast as he could.\n",
    "\n",
    "Answer:\n",
    "1-Manuel saw all kinds of animals in the forest.\n",
    "2-He saw a deer.\n",
    "3-He saw a rabbit.\n",
    "4-He even saw a bear!\n",
    "5-He was so excited to see all of these animals.\n",
    "6-But then, ....\n",
    "7-Manuel saw a big, scary snake. The snake was coiled up and ready to strike.\n",
    "8-Manuel was so scared that he ran out of the forest as fast as he could.\n",
    "\n",
    "Story:\n",
    "When he got home, he was so happy to be safe. He learned that it is always important to listen to warnings and to be careful when exploring new places.\n",
    "\n",
    "Answer:\n",
    "1-When he got home, he was so happy to be safe.\n",
    "2-He learned that it is always important to listen to warnings and to be careful when exploring new places.\n",
    "\n",
    "Story:\n",
    "Manuel was a very curious little boy. One day, he saw a sign that said \"Beware of the forest\" and he wanted to see what was inside. So he went in. \n",
    "Manuel saw all kinds of animals in the forest. He saw a deer, a rabbit, and even a bear! He was so excited to see all of these animals. \n",
    "But then, Manuel saw a big, scary snake. The snake was coiled up and ready to strike. Manuel was so scared that he ran out of the forest as fast as he could.\n",
    "When he got home, he was so happy to be safe. He learned that it is always important to listen to warnings and to be careful when exploring new places.\n",
    " \n",
    "Answer:\n",
    "1-Manuel was a very curious little boy. One day, he saw a sign that said \"Beware of the forest\"\n",
    "2-He wanted to see what was inside. So he went in.\n",
    "3-Manuel saw all kinds of animals in the forest.\n",
    "4-He saw a deer.\n",
    "5-He saw a rabbit.\n",
    "6-He even saw a bear!\n",
    "7-He was so excited to see all of these animals.\n",
    "8-But then, ....\n",
    "9-Manuel saw a big, scary snake. The snake was coiled up and ready to strike.\n",
    "10-Manuel was so scared that he ran out of the forest as fast as he could.\n",
    "11-When he got home, he was so happy to be safe.\n",
    "12-He learned that it is always important to listen to warnings and to be careful when exploring new places.\n",
    "\n",
    "Story:\n",
    "{story}\n",
    "\n",
    "Answer:\n",
    "1-\"\"\"\n",
    "\n",
    "splits = '1-' + text_model.text2text(GET_SPLIT.format(story = comics))\n",
    "\n",
    "print(splits)\n",
    "frames = re.split(r'\\d+-\\s*', splits.strip())"
   ]
  },
  {
   "cell_type": "code",
   "execution_count": 5,
   "metadata": {},
   "outputs": [
    {
     "name": "stdout",
     "output_type": "stream",
     "text": [
      "[ Child, Old Wizard]\n"
     ]
    }
   ],
   "source": [
    "GET_CHARACTERS = \"\"\"Detect each characters in a story. If the characters has a name I want to know its name. \n",
    "But if the characters doesn't have a name use its sex or its species to make a random name, as example Man 1 or Bear 1\n",
    "\n",
    "Story: {story}\n",
    "\n",
    "Character and Randomly generated's name list divided by commas:[\"\"\"\n",
    "\n",
    "characters = text_model.text2text(GET_CHARACTERS.format(story=comics))\n",
    "print('[', characters)\n",
    "\n",
    "chars = [line.strip() for line in characters[:-1].split(',')]"
   ]
  },
  {
   "cell_type": "code",
   "execution_count": 6,
   "metadata": {},
   "outputs": [
    {
     "name": "stdout",
     "output_type": "stream",
     "text": [
      "Child:The child was a young person, most likely a preteen or early teenager. They had dark brown hair and kind brown eyes. They were wearing a simple outfit with a white t-shirt, jeans and sneakers. \n",
      "\n",
      "Old Wizard: The old wizard was a mysterious figure with a long white beard and wearing a long robe. He had a kind face and piercing blue eyes that seemed to look right into the child's soul. He had a staff in his hand and was wearing a pointed hat.\n"
     ]
    }
   ],
   "source": [
    "GET_DESCRIPTIONS = \"\"\"I gave you s story and a list of characters in it. Give me a very detail physical description for each characters \n",
    "\n",
    "Story: {story}\n",
    "\n",
    "Character's name list divided by commas: [{characters}\n",
    "\n",
    "Descriptions:\n",
    "{first_name}:\"\"\"\n",
    "\n",
    "descriptions = text_model.text2text(GET_DESCRIPTIONS.format(story=comics, characters=characters, first_name = chars[0]))\n",
    "descriptions = chars[0] + ':' + descriptions \n",
    "\n",
    "print(descriptions) \n",
    "\n",
    "dd = dict(line.strip().split(':') for line in descriptions.split('\\n') if ':' in line)\n",
    "assert len(dd) == len(chars)\n"
   ]
  },
  {
   "cell_type": "code",
   "execution_count": 7,
   "metadata": {},
   "outputs": [
    {
     "name": "stdout",
     "output_type": "stream",
     "text": [
      "0 (Child) is returning a precious stone to the (Old Wizard) in the forest.\n",
      "1 (Child) is standing outside the entrance of a mysterious cave, looking up at an (Old Wizard) standing in the shadows.\n",
      "2 (Child) is standing in front of a mysterious cave, filled with colorful gems and jewels, while (Old Wizard) is watching in the shadows.\n",
      "3 (Child) is exploring a mysterious cave filled with beautiful crystals and gems of all colors.\n",
      "4 (Child) is exploring a mysterious cave filled with beautiful crystals and gems.\n",
      "5 (Child) is standing in front of a secret door with awe, looking in to a room filled with gems and jewels.\n",
      "6 (Child) is holding a handful of precious stones while (Old Wizard) is watching from afar.\n",
      "7 (Child) is surprised to see the (Old Wizard) in the forest.\n",
      "8 (Child) is returning the jewels to the (Old Wizard) in the forest.\n",
      "9 (Child) is returning the gems to the (Old Wizard) in the forest.\n",
      "10 (Child) is returning the jewels and gems to the (Old Wizard) in the forest.\n",
      "11 (Child) is returning the gems to the cave while (Old Wizard) is watching.\n",
      "12 (Child) is in the forest, looking back at the (Old Wizard) with respect.\n",
      "13 (Child) is standing in front of the (Old Wizard) in the forest, showing respect for the nature and the life within it.\n"
     ]
    }
   ],
   "source": [
    "GET_IMAGE_PROMPT = \"\"\"I will give you a story and the list of story's characters. I will also give you a frames of the story.\n",
    "Give a prompt for a text to image generative model with an image description. \n",
    "In this prompt when you will reference to some characters change this reference for its name in the list between parenthesis.\n",
    "Don't use pronouns nor literal references. \n",
    "\n",
    "Story:\n",
    "A young was a very curious little boy. One day, he saw a sign that said \"Beware of the forest\" and he wanted to see what was inside. So he went in.\n",
    "\n",
    "Characters: [Child 1, Rabbit, Bear]\n",
    "\n",
    "Frames:A young was a very curious little boy. One day, he saw a sign that said \"Beware of the forest\"\n",
    "\n",
    "Image Prompt:(Child) is watching a sign front of a forest.\n",
    "\n",
    "Story:\n",
    "Manuel saw all kinds of animals in the forest. He saw a rabbit.\n",
    "\n",
    "Characters: [Child 1, Rabbit, Bear]\n",
    "\n",
    "Frames:He saw a rabbit\n",
    "\n",
    "Image Prompt:(Child) is watching the (Rabbit) in the forest.\n",
    "\n",
    "Story: \n",
    "{story}\n",
    "\n",
    "Characters:[{characters}]\n",
    "\n",
    "FRAME:{frame}\n",
    "\n",
    "Image Prompts:\"\"\"\n",
    "\n",
    "def auto_prompting(frame):\n",
    "    return text_model.text2text(GET_IMAGE_PROMPT.format(story=comics, characters=','.join(dd.keys()), frame = frame))\n",
    "\n",
    "prompts = [auto_prompting(f) for f in frames]\n",
    "\n",
    "for i, p in enumerate(prompts):\n",
    "    print(i, p)"
   ]
  },
  {
   "cell_type": "code",
   "execution_count": 8,
   "metadata": {},
   "outputs": [
    {
     "name": "stdout",
     "output_type": "stream",
     "text": [
      "0 (Child) is returning a precious stone to the (Old Wizard) in the forest. Child is The child was a young person, most likely a preteen or early teenager. They had dark brown hair and kind brown eyes. They were wearing a simple outfit with a white t-shirt, jeans and sneakers. Old Wizard is  The old wizard was a mysterious figure with a long white beard and wearing a long robe. He had a kind face and piercing blue eyes that seemed to look right into the child's soul. He had a staff in his hand and was wearing a pointed hat. studio ghibli, pixar and disney animation, 3 d, sharp, rendered in enscape, anime key art by greg rutkowski, bloom, Soft lighting\n",
      "1 (Child) is standing outside the entrance of a mysterious cave, looking up at an (Old Wizard) standing in the shadows. Child is The child was a young person, most likely a preteen or early teenager. They had dark brown hair and kind brown eyes. They were wearing a simple outfit with a white t-shirt, jeans and sneakers. Old Wizard is  The old wizard was a mysterious figure with a long white beard and wearing a long robe. He had a kind face and piercing blue eyes that seemed to look right into the child's soul. He had a staff in his hand and was wearing a pointed hat. studio ghibli, pixar and disney animation, 3 d, sharp, rendered in enscape, anime key art by greg rutkowski, bloom, Soft lighting\n",
      "2 (Child) is standing in front of a mysterious cave, filled with colorful gems and jewels, while (Old Wizard) is watching in the shadows. Child is The child was a young person, most likely a preteen or early teenager. They had dark brown hair and kind brown eyes. They were wearing a simple outfit with a white t-shirt, jeans and sneakers. Old Wizard is  The old wizard was a mysterious figure with a long white beard and wearing a long robe. He had a kind face and piercing blue eyes that seemed to look right into the child's soul. He had a staff in his hand and was wearing a pointed hat. studio ghibli, pixar and disney animation, 3 d, sharp, rendered in enscape, anime key art by greg rutkowski, bloom, Soft lighting\n",
      "3 (Child) is exploring a mysterious cave filled with beautiful crystals and gems of all colors. Child is The child was a young person, most likely a preteen or early teenager. They had dark brown hair and kind brown eyes. They were wearing a simple outfit with a white t-shirt, jeans and sneakers. studio ghibli, pixar and disney animation, 3 d, sharp, rendered in enscape, anime key art by greg rutkowski, bloom, Soft lighting\n",
      "4 (Child) is exploring a mysterious cave filled with beautiful crystals and gems. Child is The child was a young person, most likely a preteen or early teenager. They had dark brown hair and kind brown eyes. They were wearing a simple outfit with a white t-shirt, jeans and sneakers. studio ghibli, pixar and disney animation, 3 d, sharp, rendered in enscape, anime key art by greg rutkowski, bloom, Soft lighting\n",
      "5 (Child) is standing in front of a secret door with awe, looking in to a room filled with gems and jewels. Child is The child was a young person, most likely a preteen or early teenager. They had dark brown hair and kind brown eyes. They were wearing a simple outfit with a white t-shirt, jeans and sneakers. studio ghibli, pixar and disney animation, 3 d, sharp, rendered in enscape, anime key art by greg rutkowski, bloom, Soft lighting\n",
      "6 (Child) is holding a handful of precious stones while (Old Wizard) is watching from afar. Child is The child was a young person, most likely a preteen or early teenager. They had dark brown hair and kind brown eyes. They were wearing a simple outfit with a white t-shirt, jeans and sneakers. Old Wizard is  The old wizard was a mysterious figure with a long white beard and wearing a long robe. He had a kind face and piercing blue eyes that seemed to look right into the child's soul. He had a staff in his hand and was wearing a pointed hat. studio ghibli, pixar and disney animation, 3 d, sharp, rendered in enscape, anime key art by greg rutkowski, bloom, Soft lighting\n",
      "7 (Child) is surprised to see the (Old Wizard) in the forest. Child is The child was a young person, most likely a preteen or early teenager. They had dark brown hair and kind brown eyes. They were wearing a simple outfit with a white t-shirt, jeans and sneakers. Old Wizard is  The old wizard was a mysterious figure with a long white beard and wearing a long robe. He had a kind face and piercing blue eyes that seemed to look right into the child's soul. He had a staff in his hand and was wearing a pointed hat. studio ghibli, pixar and disney animation, 3 d, sharp, rendered in enscape, anime key art by greg rutkowski, bloom, Soft lighting\n",
      "8 (Child) is returning the jewels to the (Old Wizard) in the forest. Child is The child was a young person, most likely a preteen or early teenager. They had dark brown hair and kind brown eyes. They were wearing a simple outfit with a white t-shirt, jeans and sneakers. Old Wizard is  The old wizard was a mysterious figure with a long white beard and wearing a long robe. He had a kind face and piercing blue eyes that seemed to look right into the child's soul. He had a staff in his hand and was wearing a pointed hat. studio ghibli, pixar and disney animation, 3 d, sharp, rendered in enscape, anime key art by greg rutkowski, bloom, Soft lighting\n",
      "9 (Child) is returning the gems to the (Old Wizard) in the forest. Child is The child was a young person, most likely a preteen or early teenager. They had dark brown hair and kind brown eyes. They were wearing a simple outfit with a white t-shirt, jeans and sneakers. Old Wizard is  The old wizard was a mysterious figure with a long white beard and wearing a long robe. He had a kind face and piercing blue eyes that seemed to look right into the child's soul. He had a staff in his hand and was wearing a pointed hat. studio ghibli, pixar and disney animation, 3 d, sharp, rendered in enscape, anime key art by greg rutkowski, bloom, Soft lighting\n",
      "10 (Child) is returning the jewels and gems to the (Old Wizard) in the forest. Child is The child was a young person, most likely a preteen or early teenager. They had dark brown hair and kind brown eyes. They were wearing a simple outfit with a white t-shirt, jeans and sneakers. Old Wizard is  The old wizard was a mysterious figure with a long white beard and wearing a long robe. He had a kind face and piercing blue eyes that seemed to look right into the child's soul. He had a staff in his hand and was wearing a pointed hat. studio ghibli, pixar and disney animation, 3 d, sharp, rendered in enscape, anime key art by greg rutkowski, bloom, Soft lighting\n",
      "11 (Child) is returning the gems to the cave while (Old Wizard) is watching. Child is The child was a young person, most likely a preteen or early teenager. They had dark brown hair and kind brown eyes. They were wearing a simple outfit with a white t-shirt, jeans and sneakers. Old Wizard is  The old wizard was a mysterious figure with a long white beard and wearing a long robe. He had a kind face and piercing blue eyes that seemed to look right into the child's soul. He had a staff in his hand and was wearing a pointed hat. studio ghibli, pixar and disney animation, 3 d, sharp, rendered in enscape, anime key art by greg rutkowski, bloom, Soft lighting\n",
      "12 (Child) is in the forest, looking back at the (Old Wizard) with respect. Child is The child was a young person, most likely a preteen or early teenager. They had dark brown hair and kind brown eyes. They were wearing a simple outfit with a white t-shirt, jeans and sneakers. Old Wizard is  The old wizard was a mysterious figure with a long white beard and wearing a long robe. He had a kind face and piercing blue eyes that seemed to look right into the child's soul. He had a staff in his hand and was wearing a pointed hat. studio ghibli, pixar and disney animation, 3 d, sharp, rendered in enscape, anime key art by greg rutkowski, bloom, Soft lighting\n",
      "13 (Child) is standing in front of the (Old Wizard) in the forest, showing respect for the nature and the life within it. Child is The child was a young person, most likely a preteen or early teenager. They had dark brown hair and kind brown eyes. They were wearing a simple outfit with a white t-shirt, jeans and sneakers. Old Wizard is  The old wizard was a mysterious figure with a long white beard and wearing a long robe. He had a kind face and piercing blue eyes that seemed to look right into the child's soul. He had a staff in his hand and was wearing a pointed hat. studio ghibli, pixar and disney animation, 3 d, sharp, rendered in enscape, anime key art by greg rutkowski, bloom, Soft lighting\n"
     ]
    }
   ],
   "source": [
    "def prompt_compose(prompt):\n",
    "    new_prompt = prompt\n",
    "    for key in dd.keys():\n",
    "        if f'({key})' in prompt:\n",
    "            new_prompt += f' {key} is {dd[key]}'\n",
    "    \n",
    "    return new_prompt + ' ' + \"studio ghibli, pixar and disney animation, 3 d, sharp, rendered in enscape, anime key art by greg rutkowski, bloom, Soft lighting\"\n",
    "\n",
    "n_prompts = [prompt_compose(p) for p in prompts]\n",
    "\n",
    "for i, p in enumerate(n_prompts):\n",
    "    print(i, p)"
   ]
  },
  {
   "cell_type": "code",
   "execution_count": 21,
   "metadata": {},
   "outputs": [],
   "source": [
    "from src.images import stable_diffusion_api as sda\n",
    "\n",
    "imodel = sda.StableDiffusionApi(save_seed=True, image_formatter=lambda u: Image(url=u[0]))\n",
    "iconfig = sda.StableDiffusionApiModelConfig()"
   ]
  },
  {
   "cell_type": "code",
   "execution_count": 22,
   "metadata": {},
   "outputs": [],
   "source": [
    "NEGATIVE_TEMPLATE = (\n",
    "'low quality, extra fingers, missing fingers',   \n",
    "'bad anatomy, mutilations, deformations, ugly',\n",
    "'text, too dark, too sharp, unclear, underexposed' \n",
    "'undeveloped, watermark ugly, low quality, missing fingers',\n",
    "'too many fingers, missing limbs, extra limbs, warped, mutilated', \n",
    "'blurry, texts, watermarks, overexposed, too dark',\n",
    "'disconected limbs, ((((mutated hands and fingers)))), missing limbs' \n",
    "'(((fake leg))), contortionist, contorted limbs, (body merged), disjointed' \n",
    "'floating limbs, (malformed hands), (((extra limb)), (((extra fingers))), ((bad anatomy))',\n",
    "'(incomplete face), (scribble), (((disfigured))), dead, ((blurry)), (((incorrect)))',\n",
    "'((deformed)), (mutated),(mutation), disgusting'\n",
    ")\n",
    "\n",
    "neg = ','.join(NEGATIVE_TEMPLATE)"
   ]
  },
  {
   "cell_type": "code",
   "execution_count": 23,
   "metadata": {},
   "outputs": [
    {
     "name": "stdout",
     "output_type": "stream",
     "text": [
      "......... saving seed 3399391701\n"
     ]
    },
    {
     "data": {
      "text/html": [
       "<img src=\"https://pub-8b49af329fae499aa563997f5d4068a4.r2.dev/generations/55971e7d-9651-4234-884a-65d8a9667bef-0.png\"/>"
      ],
      "text/plain": [
       "<IPython.core.display.Image object>"
      ]
     },
     "execution_count": 23,
     "metadata": {},
     "output_type": "execute_result"
    }
   ],
   "source": [
    "imodel.text2image(n_prompts[0], neg=neg)"
   ]
  },
  {
   "cell_type": "code",
   "execution_count": 24,
   "metadata": {},
   "outputs": [
    {
     "name": "stdout",
     "output_type": "stream",
     "text": [
      "......... generate by seed 3399391701\n"
     ]
    },
    {
     "data": {
      "text/html": [
       "<img src=\"https://pub-8b49af329fae499aa563997f5d4068a4.r2.dev/generations/7d39c6f5-343e-46d5-ab1b-fb2742c2ad12-0.png\"/>"
      ],
      "text/plain": [
       "<IPython.core.display.Image object>"
      ]
     },
     "execution_count": 24,
     "metadata": {},
     "output_type": "execute_result"
    }
   ],
   "source": [
    "imodel.text2image(n_prompts[1], neg=neg)"
   ]
  },
  {
   "cell_type": "code",
   "execution_count": 25,
   "metadata": {},
   "outputs": [
    {
     "name": "stdout",
     "output_type": "stream",
     "text": [
      "......... generate by seed 3399391701\n"
     ]
    },
    {
     "data": {
      "text/html": [
       "<img src=\"https://pub-8b49af329fae499aa563997f5d4068a4.r2.dev/generations/ef271ef2-2f50-435e-bcef-f3fe6e2c05d4-0.png\"/>"
      ],
      "text/plain": [
       "<IPython.core.display.Image object>"
      ]
     },
     "execution_count": 25,
     "metadata": {},
     "output_type": "execute_result"
    }
   ],
   "source": [
    "imodel.text2image(n_prompts[2], neg=neg)"
   ]
  },
  {
   "cell_type": "code",
   "execution_count": 26,
   "metadata": {},
   "outputs": [
    {
     "name": "stdout",
     "output_type": "stream",
     "text": [
      "......... generate by seed 3399391701\n"
     ]
    },
    {
     "data": {
      "text/html": [
       "<img src=\"https://pub-8b49af329fae499aa563997f5d4068a4.r2.dev/generations/3ccecb8c-1334-4229-816b-2f1752f7f814-0.png\"/>"
      ],
      "text/plain": [
       "<IPython.core.display.Image object>"
      ]
     },
     "execution_count": 26,
     "metadata": {},
     "output_type": "execute_result"
    }
   ],
   "source": [
    "imodel.text2image(n_prompts[3], neg=neg)"
   ]
  },
  {
   "cell_type": "code",
   "execution_count": 27,
   "metadata": {},
   "outputs": [
    {
     "name": "stdout",
     "output_type": "stream",
     "text": [
      "......... generate by seed 3399391701\n"
     ]
    },
    {
     "data": {
      "text/html": [
       "<img src=\"https://pub-8b49af329fae499aa563997f5d4068a4.r2.dev/generations/b0338a06-30f7-4653-97f0-9310254308c8-0.png\"/>"
      ],
      "text/plain": [
       "<IPython.core.display.Image object>"
      ]
     },
     "execution_count": 27,
     "metadata": {},
     "output_type": "execute_result"
    }
   ],
   "source": [
    "imodel.text2image(n_prompts[4], neg=neg)"
   ]
  },
  {
   "cell_type": "code",
   "execution_count": 28,
   "metadata": {},
   "outputs": [
    {
     "name": "stdout",
     "output_type": "stream",
     "text": [
      "......... generate by seed 3399391701\n"
     ]
    },
    {
     "data": {
      "text/html": [
       "<img src=\"https://pub-8b49af329fae499aa563997f5d4068a4.r2.dev/generations/a8f09754-b92f-4099-be79-1d8e8d17a563-0.png\"/>"
      ],
      "text/plain": [
       "<IPython.core.display.Image object>"
      ]
     },
     "execution_count": 28,
     "metadata": {},
     "output_type": "execute_result"
    }
   ],
   "source": [
    "imodel.text2image(n_prompts[5], neg=neg)"
   ]
  },
  {
   "cell_type": "code",
   "execution_count": 29,
   "metadata": {},
   "outputs": [
    {
     "name": "stdout",
     "output_type": "stream",
     "text": [
      "......... generate by seed 3399391701\n"
     ]
    },
    {
     "data": {
      "text/html": [
       "<img src=\"https://pub-8b49af329fae499aa563997f5d4068a4.r2.dev/generations/38b8d76b-99ec-45a1-9539-6d7e761bd5d0-0.png\"/>"
      ],
      "text/plain": [
       "<IPython.core.display.Image object>"
      ]
     },
     "execution_count": 29,
     "metadata": {},
     "output_type": "execute_result"
    }
   ],
   "source": [
    "imodel.text2image(n_prompts[6], neg=neg)"
   ]
  },
  {
   "cell_type": "code",
   "execution_count": null,
   "metadata": {},
   "outputs": [],
   "source": []
  }
 ],
 "metadata": {
  "kernelspec": {
   "display_name": "ai-env",
   "language": "python",
   "name": "ai-env"
  },
  "language_info": {
   "codemirror_mode": {
    "name": "ipython",
    "version": 3
   },
   "file_extension": ".py",
   "mimetype": "text/x-python",
   "name": "python",
   "nbconvert_exporter": "python",
   "pygments_lexer": "ipython3",
   "version": "3.11.2"
  },
  "orig_nbformat": 4
 },
 "nbformat": 4,
 "nbformat_minor": 2
}
