{
 "cells": [
  {
   "cell_type": "code",
   "execution_count": 1,
   "metadata": {},
   "outputs": [
    {
     "name": "stdout",
     "output_type": "stream",
     "text": [
      "\n",
      "#########################################################################\n",
      "    Init Stable Diffusion System (ApiKey = aFc2LXPHXvEmnsHbVgMFh2NWXrXi8o6vgtpqBzM6MXkxjYrwZJFdiwewJ0Po) \n",
      "#########################################################################\n",
      "\n"
     ]
    }
   ],
   "source": [
    "import openai\n",
    "from IPython.display import Image\n",
    "from typing import Literal, Union\n",
    "import re\n",
    "\n",
    "from src.images import stable_diffusion_api as sda\n",
    "\n",
    "imodel = sda.StableDiffusionApi(image_formatter=lambda u: Image(url=u[0]))"
   ]
  },
  {
   "cell_type": "code",
   "execution_count": 2,
   "metadata": {},
   "outputs": [
    {
     "data": {
      "text/html": [
       "<img src=\"http://178.32.114.179:9000/chocolates/naranja.png\"/>"
      ],
      "text/plain": [
       "<IPython.core.display.Image object>"
      ]
     },
     "execution_count": 2,
     "metadata": {},
     "output_type": "execute_result"
    }
   ],
   "source": [
    "image = 'http://178.32.114.179:9000/chocolates/naranja.png'\n",
    "Image(url=image)"
   ]
  },
  {
   "cell_type": "code",
   "execution_count": 3,
   "metadata": {},
   "outputs": [
    {
     "data": {
      "text/html": [
       "<img src=\"http://178.32.114.179:9000/chocolates/naranja.mask.png\"/>"
      ],
      "text/plain": [
       "<IPython.core.display.Image object>"
      ]
     },
     "execution_count": 3,
     "metadata": {},
     "output_type": "execute_result"
    }
   ],
   "source": [
    "mask = 'http://178.32.114.179:9000/chocolates/naranja.mask.png'\n",
    "Image(url=mask)"
   ]
  },
  {
   "cell_type": "code",
   "execution_count": 4,
   "metadata": {},
   "outputs": [
    {
     "name": "stdout",
     "output_type": "stream",
     "text": [
      "......... generate by seed 1903934006\n"
     ]
    },
    {
     "data": {
      "text/html": [
       "<img src=\"https://pub-8b49af329fae499aa563997f5d4068a4.r2.dev/generations/dbaf9bf4-5e45-47b2-8f42-9badf8b9b210-0.png\"/>"
      ],
      "text/plain": [
       "<IPython.core.display.Image object>"
      ]
     },
     "execution_count": 4,
     "metadata": {},
     "output_type": "execute_result"
    }
   ],
   "source": [
    "\"\"\"A photo of a leather cream with a beautiful natural \n",
    "landscape in the background with lots of trees and water in a long shot, \n",
    "character sheet, concept design, contrast, style by kim jung gi, zabrocki, \n",
    "karlkka, jayison devadas, trending on artstation, 8k, ultra wide angle, \n",
    "pincushion lens effect\n",
    "\"\"\"\n",
    "\n",
    "target = 'a leather cream' \n",
    "back = 'a beautiful natural landscape with lots of trees and water'\n",
    "template = 'A photo of {target} with {back} in the background in a long shot.'\n",
    "modifiers = [\n",
    "    'character sheet', 'concept design', 'contrast', \n",
    "    'style by kim jung gi', 'zabrocki', 'karlkka', \n",
    "    'jayison devadas', 'trending on artstation', '8k', \n",
    "    'ultra wide angle', 'pincushion lens effect'\n",
    "]\n",
    "\n",
    "negative = [\n",
    "    'low quality, extra fingers, missing fingers',   \n",
    "    'bad anatomy, mutilations, deformations, ugly',\n",
    "    'text, too dark, too sharp, unclear, underexposed' \n",
    "    'undeveloped, watermark ugly, low quality, missing fingers',\n",
    "    'too many fingers, missing limbs, extra limbs, warped, mutilated', \n",
    "    'blurry, texts, watermarks, overexposed, too dark',\n",
    "    'disconected limbs, ((((mutated hands and fingers)))), missing limbs' \n",
    "    '(((fake leg))), contortionist, contorted limbs, (body merged), disjointed' \n",
    "    'floating limbs, (malformed hands), (((extra limb)), (((extra fingers))), ((bad anatomy))',\n",
    "    '(incomplete face), (scribble), (((disfigured))), dead, ((blurry)), (((incorrect)))',\n",
    "    '((deformed)), (mutated),(mutation), disgusting'\n",
    "]\n",
    "\n",
    "\n",
    "iconfig = sda.StableDiffusionApiModelConfig(\n",
    "    guidance_scale=15.0,\n",
    "    strength=20.0\n",
    ")\n",
    "\n",
    "prompt = template.format(target=target, back=back) + ','.join(modifiers)\n",
    "imodel.in_painting(prompt, image, mask, neg=','.join(negative), config=iconfig)"
   ]
  },
  {
   "cell_type": "code",
   "execution_count": 5,
   "metadata": {},
   "outputs": [
    {
     "data": {
      "text/html": [
       "<img src=\"http://178.32.114.179:9000/chocolates/rosado.png\"/>"
      ],
      "text/plain": [
       "<IPython.core.display.Image object>"
      ]
     },
     "execution_count": 5,
     "metadata": {},
     "output_type": "execute_result"
    }
   ],
   "source": [
    "image = 'http://178.32.114.179:9000/chocolates/rosado.png'\n",
    "Image(url=image)"
   ]
  },
  {
   "cell_type": "code",
   "execution_count": 6,
   "metadata": {},
   "outputs": [
    {
     "data": {
      "text/html": [
       "<img src=\"http://178.32.114.179:9000/chocolates/rosado.mask.png\"/>"
      ],
      "text/plain": [
       "<IPython.core.display.Image object>"
      ]
     },
     "execution_count": 6,
     "metadata": {},
     "output_type": "execute_result"
    }
   ],
   "source": [
    "mask = 'http://178.32.114.179:9000/chocolates/rosado.mask.png'\n",
    "Image(url=mask)"
   ]
  },
  {
   "cell_type": "code",
   "execution_count": 7,
   "metadata": {},
   "outputs": [
    {
     "name": "stdout",
     "output_type": "stream",
     "text": [
      "......... generate by seed 2289447126\n"
     ]
    },
    {
     "data": {
      "text/html": [
       "<img src=\"https://pub-8b49af329fae499aa563997f5d4068a4.r2.dev/generations/1845d9bf-9150-4b5b-bbac-f54a138ac321-0.png\"/>"
      ],
      "text/plain": [
       "<IPython.core.display.Image object>"
      ]
     },
     "execution_count": 7,
     "metadata": {},
     "output_type": "execute_result"
    }
   ],
   "source": [
    "back = 'an immense galaxy with planets ans stars'\n",
    "prompt = template.format(target=target, back=back) + ','.join(modifiers)\n",
    "imodel.in_painting(prompt, image, mask, neg=','.join(negative), config=iconfig)"
   ]
  }
 ],
 "metadata": {
  "kernelspec": {
   "display_name": "ai-env",
   "language": "python",
   "name": "ai-env"
  },
  "language_info": {
   "codemirror_mode": {
    "name": "ipython",
    "version": 3
   },
   "file_extension": ".py",
   "mimetype": "text/x-python",
   "name": "python",
   "nbconvert_exporter": "python",
   "pygments_lexer": "ipython3",
   "version": "3.11.2"
  },
  "orig_nbformat": 4
 },
 "nbformat": 4,
 "nbformat_minor": 2
}
