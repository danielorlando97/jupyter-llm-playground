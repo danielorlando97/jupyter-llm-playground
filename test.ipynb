{
 "cells": [
  {
   "cell_type": "code",
   "execution_count": 1,
   "metadata": {},
   "outputs": [],
   "source": [
    "from src.pipelines import auto_image_prompting, comics\n",
    "from src.formatter.text import print_texts, print_list\n",
    "from src.text.open_ai import OpenAITextGeneration, OpenAITextModelConfig\n",
    "from src.images.stable_diffusion_api import StableDiffusionApi\n",
    "from IPython.display import Image\n",
    "\n",
    "\n",
    "# Refactor del splitter \n",
    "# Attention en la description the lo general a lo particular\n"
   ]
  },
  {
   "cell_type": "code",
   "execution_count": 2,
   "metadata": {},
   "outputs": [],
   "source": [
    "NEGATIVE_TEMPLATE = (\n",
    "'low quality, extra fingers, missing fingers',   \n",
    "'bad anatomy, mutilations, deformations, ugly',\n",
    "'text, too dark, too sharp, unclear, underexposed' \n",
    "'undeveloped, watermark ugly, low quality, missing fingers',\n",
    "'too many fingers, missing limbs, extra limbs, warped, mutilated', \n",
    "'blurry, texts, watermarks, overexposed, too dark',\n",
    "'disconected limbs, ((((mutated hands and fingers)))), missing limbs' \n",
    "'(((fake leg))), contortionist, contorted limbs, (body merged), disjointed' \n",
    "'floating limbs, (malformed hands), (((extra limb)), (((extra fingers))), ((bad anatomy))',\n",
    "'(incomplete face), (scribble), (((disfigured))), dead, ((blurry)), (((incorrect)))',\n",
    "'((deformed)), (mutated),(mutation), disgusting'\n",
    ")\n",
    "\n",
    "negative = ','.join(NEGATIVE_TEMPLATE)\n",
    "\n",
    "tmodel = OpenAITextGeneration()\n",
    "imodel = StableDiffusionApi(save_seed=True, image_formatter=lambda u: Image(url=u[0]))\n"
   ]
  },
  {
   "cell_type": "code",
   "execution_count": 3,
   "metadata": {},
   "outputs": [
    {
     "name": "stdout",
     "output_type": "stream",
     "text": [
      "Once upon a time there lived a brave young boy called Zorkon. Zorkon was an adventurer, curious and brave, and he was always looking for new and exciting things to explore.\n",
      "One day, Zorkon decided to explore the stars. So he built a rocket ship, and blasted off into space. He traveled for what seemed like days, floating through the stars, until he finally came to a strange new planet.\n",
      "The planet was full of strange creatures and plants, and Zorkon was captivated by it. He explored for days, and even made some friends along the way. Everyone was so friendly and welcoming, and Zorkon soon fell in love with this new world.\n",
      "But one day, Zorkon noticed that it was getting very dark. He looked out into the sky and saw that a huge dark cloud was slowly rolling in, and it was getting closer and closer. As it came closer, the darkness grew stronger, and soon the whole planet was shrouded in darkness.\n",
      "Zorkon knew he had to do something, so he gathered all of his new friends and they set out to find the source of the darkness.\n",
      "After days of searching, they finally located the source: a giant spaceship that was slowly descending upon the planet.\n",
      "The spaceship was full of aliens, and they had come to take over the planet.\n",
      "But Zorkon refused to give up without a fight. He rallied his friends, and they all charged at the aliens, fighting them with courage and strength.\n",
      "After a long and hard battle, they were able to drive away the aliens and the darkness was lifted.\n",
      "Zorkon and his friends had saved the planet, and everyone was so proud of him.\n",
      "From then on, Zorkon was known as the brave boy who had saved the planet from the darkness. He was a hero to everyone, and his courage and bravery inspired all the people of the planet.\n",
      "The lesson from this story is that even when faced with the greatest of challenges, one should never give up. With hard work, determination and courage, anything is possible.\n"
     ]
    }
   ],
   "source": [
    "story, frames = comics.pipeline(tmodel, 'A boy in the spaces')\n",
    "print_list(frames)"
   ]
  },
  {
   "cell_type": "code",
   "execution_count": 4,
   "metadata": {},
   "outputs": [],
   "source": [
    "ti_model = auto_image_prompting.TestIllustrateModel(tmodel)\n",
    "iter = ti_model.run(story, frames, \n",
    "    style=\"Studio ghibli, pixar and disney animation, long plane, 3 d, sharp, rendered in enscape, anime key art by greg rutkowski, bloom, Soft lighting\"\n",
    ")\n"
   ]
  },
  {
   "cell_type": "code",
   "execution_count": 5,
   "metadata": {},
   "outputs": [
    {
     "name": "stdout",
     "output_type": "stream",
     "text": [
      "............. init inferences 🏭\n",
      "............. the entities was detected 🕵🏽‍♂️\n",
      "............. the entity rocket ship was described ✍🏽\n",
      "............. the entity stars was described ✍🏽\n",
      "............. the entity strange new planet was described ✍🏽\n",
      "............. the entity creatures was described ✍🏽\n",
      "............. the entity plants was described ✍🏽\n",
      "............. the entity giant spaceship was described ✍🏽\n",
      "............. the entity aliens was described ✍🏽\n",
      "............. analyzing 0/12 frame 🧐\n",
      "............. the entity boy was described ✍🏽\n",
      "............. the entity zorkon was described ✍🏽\n",
      "............. the entity adventurer was described ✍🏽\n",
      "............. the entity things was described ✍🏽\n",
      "............. the image description was generated 🤩\n",
      "............. the image description was formatted 🙌🏽\n",
      "Once upon a time there lived a brave young boy called Zorkon. Zorkon was an adventurer, curious and brave, and he was always looking for new and exciting things to explore.\n",
      "\n",
      "\n",
      "################################################################################################################\n",
      "\n",
      "Photo in long plane of ((zorkon)) in the center of a group of people, with a ((rocket ship)) in the background. All of the people are facing towards ((zorkon)), who is looking towards the sky with his arm extended in front of him. The ((rocket ship)) is to the left of ((zorkon)), and the group of people are to the right. The sky is dark and ominous, with a ((giant spaceship)) slowly descending in the distance. (((Studio ghibli, pixar and disney animation, long plane, 3 d, sharp, rendered in enscape, anime key art by greg rutkowski, bloom, Soft lighting))).\n",
      "Zorkon is a young boy with short brown hair and blue eyes. He is wearing a white t-shirt, blue jeans, and a brown leather jacket. He has a determined expression on his face and is standing with his feet slightly apart, ready for action. He looks confident and strong, and is ready to take on any challenge that comes his way.\n",
      "Rocket ship in the photo is a large, rectangular-shaped vessel with two large fins on the back. Its exterior is a shiny, metallic silver color. It has four small, circular windows on its side, two in the front and two in the back. On the top of the rocket ship are two large, red exhaust ports, and underneath are two small landing legs. The ship has a wide, curved nose at the front, and two small wings on either side. There is a small, rectangular window at the front of the ship, and two large boosters at the back. On the side of the rocket is the name \"Zorkon\" written in bold, white letters.\n",
      "Giant spaceship in the photo is a large, metallic-looking vessel with a cylindrical shape. It has several windows along the sides and a large antenna at the top. It is painted in a bright, metallic silver color, with a few black and red stripes along the sides. The bottom of the spaceship is lined with several thrusters and nozzles. It also has several protruding panels along the sides, which could be used as landing gear or as additional weapons. There are several lights blinking along the sides of the ship.\n",
      "......... saving seed 1010782022\n"
     ]
    },
    {
     "data": {
      "text/html": [
       "<img src=\"https://pub-8b49af329fae499aa563997f5d4068a4.r2.dev/generations/6c139451-d4aa-418e-b592-353f58f484bb-0.png\"/>"
      ],
      "text/plain": [
       "<IPython.core.display.Image object>"
      ]
     },
     "execution_count": 5,
     "metadata": {},
     "output_type": "execute_result"
    }
   ],
   "source": [
    "\n",
    "image_prompt = next(iter)\n",
    "\n",
    "print(frames[0])\n",
    "print('\\n################################################################################################################\\n')\n",
    "print(image_prompt)\n",
    "\n",
    "imodel.text2image(image_prompt, neg=negative)\n"
   ]
  },
  {
   "cell_type": "code",
   "execution_count": 6,
   "metadata": {},
   "outputs": [
    {
     "name": "stdout",
     "output_type": "stream",
     "text": [
      "............. analyzing 1/12 frame 🧐\n",
      "............. the entity planet was described ✍🏽\n",
      "............. the image description was generated 🤩\n",
      "............. the image description was formatted 🙌🏽\n",
      "One day, Zorkon decided to explore the stars. So he built a rocket ship, and blasted off into space. He traveled for what seemed like days, floating through the stars, until he finally came to a strange new planet.\n",
      "\n",
      "\n",
      "################################################################################################################\n",
      "\n",
      "Photo in long plane of a ((boy)) standing in the middle of the image. He is wearing a space suit, and he is looking up to the sky with his arms spread wide. Behind him is a ((rocket ship)), with a bright orange flame coming out of the back. To the left of the ((rocket ship)) is a big blue ((planet)), and to the right is a big dark cloud slowly rolling in. In the foreground is a group of strange ((creatures)), all looking up at the ((boy)) with admiration. (((Studio ghibli, pixar and disney animation, long plane, 3 d, sharp, rendered in enscape, anime key art by greg rutkowski, bloom, Soft lighting))).\n",
      "Boy in the photo is Zorkon, the brave young hero. He has short, dark brown hair, a strong jawline, and a determined expression on his face. He is wearing a white t-shirt with a blue and green striped pattern and a pair of blue jeans. He has a brown belt around his waist and a pair of brown boots on his feet. He has a sword tucked into his belt and a shield slung across his back. He stands tall, with his chin held high and his shoulders back, radiating confidence and courage.\n",
      "Rocket ship in the photo is a large, rectangular-shaped vessel with two large fins on the back. Its exterior is a shiny, metallic silver color. It has four small, circular windows on its side, two in the front and two in the back. On the top of the rocket ship are two large, red exhaust ports, and underneath are two small landing legs. The ship has a wide, curved nose at the front, and two small wings on either side. There is a small, rectangular window at the front of the ship, and two large boosters at the back. On the side of the rocket is the name \"Zorkon\" written in bold, white letters.\n",
      "Planet in the photo looks like a lush, green world with a blue sky and puffy white clouds. The ground is covered in a variety of vegetation, from grass and trees to shrubs and flowers. There are rolling hills and small mountains in the background, with a bright yellow sun shining in the sky. The sky is dotted with stars, and a large crescent moon can be seen in the sky. A small river winds through the landscape, and in the distance there are tall, snow-capped mountains.\n",
      "Creatures in the photo are humanoid with slightly pointed ears, large, intelligent eyes, light-colored skin, and slim bodies. They are wearing brightly-colored robes with intricate designs and patterns, and they have a variety of jewelry adorning their bodies. Each creature has a different hair color and style, ranging from long and wavy to short and spiky. They all have a friendly expression on their faces, and seem to be looking off into the distance, eager to explore the unknown.\n",
      "......... generate by seed 1010782022\n"
     ]
    },
    {
     "data": {
      "text/html": [
       "<img src=\"https://pub-8b49af329fae499aa563997f5d4068a4.r2.dev/generations/bea8a6ee-9826-4497-ae9a-625d18586bce-0.png\"/>"
      ],
      "text/plain": [
       "<IPython.core.display.Image object>"
      ]
     },
     "execution_count": 6,
     "metadata": {},
     "output_type": "execute_result"
    }
   ],
   "source": [
    "image_prompt = next(iter)\n",
    "\n",
    "print(frames[1])\n",
    "print('\\n################################################################################################################\\n')\n",
    "print(image_prompt)\n",
    "\n",
    "imodel.text2image(image_prompt, neg=negative)"
   ]
  },
  {
   "cell_type": "code",
   "execution_count": 7,
   "metadata": {},
   "outputs": [
    {
     "name": "stdout",
     "output_type": "stream",
     "text": [
      "............. analyzing 2/12 frame 🧐\n",
      "............. the entity strange creatures was described ✍🏽\n",
      "............. the entity friends was described ✍🏽\n",
      "............. the entity everyone was described ✍🏽\n",
      "............. the image description was generated 🤩\n",
      "............. the image description was formatted 🙌🏽\n",
      "The planet was full of strange creatures and plants, and Zorkon was captivated by it. He explored for days, and even made some friends along the way. Everyone was so friendly and welcoming, and Zorkon soon fell in love with this new world.\n",
      "\n",
      "\n",
      "################################################################################################################\n",
      "\n",
      "Photo in long plane of ((zorkon)) standing in the center in front of a group of friendly ((aliens)), ((creatures)), and ((plants)) he has encountered while exploring the ((planet)). He is standing tall and proud with a look of determination and courage on his face. He is dressed in a blue jumpsuit and has his hands on his hips. Behind him, the friendly ((aliens)), ((creatures)) and ((plants)) stand in a semicircle, some with their hands clasped together in a show of solidarity, others with their arms raised in the air in celebration. The sky is a deep blue, with a few ((stars)) twinkling in the background. (((Studio ghibli, pixar and disney animation, long plane, 3 d, sharp, rendered in enscape, anime key art by greg rutkowski, bloom, Soft lighting))).\n",
      "Zorkon is a young boy with short brown hair and blue eyes. He is wearing a white t-shirt, blue jeans, and a brown leather jacket. He has a determined expression on his face and is standing with his feet slightly apart, ready for action. He looks confident and strong, and is ready to take on any challenge that comes his way.\n",
      "Aliens in this photo have black, leathery skin and large, bulbous heads with two yellow eyes. They have long, thin arms and legs and are wearing silver, metallic body armor and helmets. Their hands have three long fingers and their feet have two toes. They have thin antennae on their heads and a long tail at the back.\n",
      "Creatures in the photo are humanoid with slightly pointed ears, large, intelligent eyes, light-colored skin, and slim bodies. They are wearing brightly-colored robes with intricate designs and patterns, and they have a variety of jewelry adorning their bodies. Each creature has a different hair color and style, ranging from long and wavy to short and spiky. They all have a friendly expression on their faces, and seem to be looking off into the distance, eager to explore the unknown.\n",
      "Plants in this photo appear to be lush and green, with broad, thick leaves and long, winding stems. The leaves are an emerald green color, while the stems are a lighter shade of green. Some of the plants have small yellow or white flowers growing on them, while others have bright red berries growing on them. The plants appear to be in a grassy area, with plenty of sunshine and water.\n",
      "Planet in the photo looks like a lush, green world with a blue sky and puffy white clouds. The ground is covered in a variety of vegetation, from grass and trees to shrubs and flowers. There are rolling hills and small mountains in the background, with a bright yellow sun shining in the sky. The sky is dotted with stars, and a large crescent moon can be seen in the sky. A small river winds through the landscape, and in the distance there are tall, snow-capped mountains.\n",
      "Stars in the photo appear as bright, shining points of light in the night sky. They vary in size and brightness, and some may appear to twinkle as they move in the night sky. The stars in the photo have a deep blue color and a slight sparkle to them.\n",
      "......... generate by seed 1010782022\n"
     ]
    },
    {
     "data": {
      "text/html": [
       "<img src=\"https://pub-8b49af329fae499aa563997f5d4068a4.r2.dev/generations/129907b9-e661-4666-b513-e79780ed1436-0.png\"/>"
      ],
      "text/plain": [
       "<IPython.core.display.Image object>"
      ]
     },
     "execution_count": 7,
     "metadata": {},
     "output_type": "execute_result"
    }
   ],
   "source": [
    "image_prompt = next(iter)\n",
    "\n",
    "print(frames[2])\n",
    "print('\\n################################################################################################################\\n')\n",
    "print(image_prompt)\n",
    "\n",
    "imodel.text2image(image_prompt, neg=negative)"
   ]
  },
  {
   "cell_type": "code",
   "execution_count": 8,
   "metadata": {},
   "outputs": [
    {
     "name": "stdout",
     "output_type": "stream",
     "text": [
      "............. analyzing 3/19 frame 🧐\n",
      "............. the entity dreams was described ✍🏽\n"
     ]
    },
    {
     "ename": "KeyboardInterrupt",
     "evalue": "",
     "output_type": "error",
     "traceback": [
      "\u001b[0;31m---------------------------------------------------------------------------\u001b[0m",
      "\u001b[0;31mKeyboardInterrupt\u001b[0m                         Traceback (most recent call last)",
      "Cell \u001b[0;32mIn[8], line 1\u001b[0m\n\u001b[0;32m----> 1\u001b[0m image_prompt \u001b[39m=\u001b[39m \u001b[39mnext\u001b[39;49m(\u001b[39miter\u001b[39;49m)\n\u001b[1;32m      3\u001b[0m \u001b[39mprint\u001b[39m(frames[\u001b[39m3\u001b[39m])\n\u001b[1;32m      4\u001b[0m \u001b[39mprint\u001b[39m(\u001b[39m'\u001b[39m\u001b[39m\\n\u001b[39;00m\u001b[39m################################################################################################################\u001b[39m\u001b[39m\\n\u001b[39;00m\u001b[39m'\u001b[39m)\n",
      "File \u001b[0;32m~/src/nata-squad/jupyter-llm-playground/src/pipelines/auto_image_prompting.py:248\u001b[0m, in \u001b[0;36mTestIllustrateModel.run\u001b[0;34m(self, text, frames, style)\u001b[0m\n\u001b[1;32m    246\u001b[0m \u001b[39mfor\u001b[39;00m i, f \u001b[39min\u001b[39;00m \u001b[39menumerate\u001b[39m(frames):\n\u001b[1;32m    247\u001b[0m     \u001b[39mprint\u001b[39m(\u001b[39mself\u001b[39m\u001b[39m.\u001b[39mlogger\u001b[39m.\u001b[39mformat(action \u001b[39m=\u001b[39m \u001b[39mf\u001b[39m\u001b[39m'\u001b[39m\u001b[39manalyzing \u001b[39m\u001b[39m{\u001b[39;00mi\u001b[39m}\u001b[39;00m\u001b[39m/\u001b[39m\u001b[39m{\u001b[39;00m\u001b[39mlen\u001b[39m(frames)\u001b[39m}\u001b[39;00m\u001b[39m frame 🧐\u001b[39m\u001b[39m'\u001b[39m))\n\u001b[0;32m--> 248\u001b[0m     image_prompt, _ \u001b[39m=\u001b[39m \u001b[39mself\u001b[39;49m\u001b[39m.\u001b[39;49mpipeline(f, text, \u001b[39mself\u001b[39;49m\u001b[39m.\u001b[39;49mentities, style)\n\u001b[1;32m    249\u001b[0m     \u001b[39myield\u001b[39;00m image_prompt\n",
      "File \u001b[0;32m~/src/nata-squad/jupyter-llm-playground/src/pipelines/auto_image_prompting.py:262\u001b[0m, in \u001b[0;36mTestIllustrateModel.pipeline\u001b[0;34m(self, frame, text, entities, style)\u001b[0m\n\u001b[1;32m    259\u001b[0m         entities[entity] \u001b[39m=\u001b[39m generate_entity_description(\u001b[39mself\u001b[39m\u001b[39m.\u001b[39mmodel, text, entity, \u001b[39mself\u001b[39m\u001b[39m.\u001b[39mp_entity_description)\n\u001b[1;32m    260\u001b[0m         \u001b[39mprint\u001b[39m(\u001b[39mself\u001b[39m\u001b[39m.\u001b[39mlogger\u001b[39m.\u001b[39mformat(action \u001b[39m=\u001b[39m \u001b[39mf\u001b[39m\u001b[39m'\u001b[39m\u001b[39mthe entity \u001b[39m\u001b[39m{\u001b[39;00mentity\u001b[39m}\u001b[39;00m\u001b[39m was described ✍🏽\u001b[39m\u001b[39m'\u001b[39m))\n\u001b[0;32m--> 262\u001b[0m image_description \u001b[39m=\u001b[39m generate_image_description(\u001b[39mself\u001b[39;49m\u001b[39m.\u001b[39;49mmodel, frame, text, \u001b[39mself\u001b[39;49m\u001b[39m.\u001b[39;49mp_image_description)\n\u001b[1;32m    263\u001b[0m \u001b[39mprint\u001b[39m(\u001b[39mself\u001b[39m\u001b[39m.\u001b[39mlogger\u001b[39m.\u001b[39mformat(action \u001b[39m=\u001b[39m \u001b[39mf\u001b[39m\u001b[39m'\u001b[39m\u001b[39mthe image description was generated 🤩\u001b[39m\u001b[39m'\u001b[39m))\n\u001b[1;32m    265\u001b[0m selected_entities \u001b[39m=\u001b[39m []\n",
      "File \u001b[0;32m~/src/nata-squad/jupyter-llm-playground/src/pipelines/auto_image_prompting.py:141\u001b[0m, in \u001b[0;36mgenerate_image_description\u001b[0;34m(model, sentences, log_text, prompt)\u001b[0m\n\u001b[1;32m    140\u001b[0m \u001b[39mdef\u001b[39;00m \u001b[39mgenerate_image_description\u001b[39m(model, sentences, log_text, prompt \u001b[39m=\u001b[39m GET_IMAGE_DESCRIPTION):\n\u001b[0;32m--> 141\u001b[0m     \u001b[39mreturn\u001b[39;00m \u001b[39m'\u001b[39m\u001b[39mPhoto in long plane of \u001b[39m\u001b[39m'\u001b[39m \u001b[39m+\u001b[39m model\u001b[39m.\u001b[39;49mtext2text(prompt\u001b[39m.\u001b[39;49mformat(sentences \u001b[39m=\u001b[39;49m sentences, log_text  \u001b[39m=\u001b[39;49m log_text))\n",
      "File \u001b[0;32m~/src/nata-squad/jupyter-llm-playground/src/text/open_ai.py:42\u001b[0m, in \u001b[0;36mOpenAITextGeneration.text2text\u001b[0;34m(self, prompt, config)\u001b[0m\n\u001b[1;32m     40\u001b[0m \u001b[39mdef\u001b[39;00m \u001b[39mtext2text\u001b[39m(\u001b[39mself\u001b[39m, prompt: \u001b[39mstr\u001b[39m, config: OpenAITextModelConfig \u001b[39m=\u001b[39m OpenAITextModelConfig()) \u001b[39m-\u001b[39m\u001b[39m>\u001b[39m \u001b[39mstr\u001b[39m:\n\u001b[1;32m     41\u001b[0m     body \u001b[39m=\u001b[39m \u001b[39mself\u001b[39m\u001b[39m.\u001b[39mbody_compose(config, prompt \u001b[39m=\u001b[39m prompt)\n\u001b[0;32m---> 42\u001b[0m     response \u001b[39m=\u001b[39m openai\u001b[39m.\u001b[39;49mCompletion\u001b[39m.\u001b[39;49mcreate(\u001b[39m*\u001b[39;49m\u001b[39m*\u001b[39;49mbody)\n\u001b[1;32m     43\u001b[0m     \u001b[39mreturn\u001b[39;00m response\u001b[39m.\u001b[39mchoices[\u001b[39m0\u001b[39m]\u001b[39m.\u001b[39mtext\u001b[39m.\u001b[39mstrip()\n",
      "File \u001b[0;32m~/.local/share/virtualenvs/python-ai-env-cTwd-LQ7/lib/python3.11/site-packages/openai/api_resources/completion.py:25\u001b[0m, in \u001b[0;36mCompletion.create\u001b[0;34m(cls, *args, **kwargs)\u001b[0m\n\u001b[1;32m     23\u001b[0m \u001b[39mwhile\u001b[39;00m \u001b[39mTrue\u001b[39;00m:\n\u001b[1;32m     24\u001b[0m     \u001b[39mtry\u001b[39;00m:\n\u001b[0;32m---> 25\u001b[0m         \u001b[39mreturn\u001b[39;00m \u001b[39msuper\u001b[39;49m()\u001b[39m.\u001b[39;49mcreate(\u001b[39m*\u001b[39;49margs, \u001b[39m*\u001b[39;49m\u001b[39m*\u001b[39;49mkwargs)\n\u001b[1;32m     26\u001b[0m     \u001b[39mexcept\u001b[39;00m TryAgain \u001b[39mas\u001b[39;00m e:\n\u001b[1;32m     27\u001b[0m         \u001b[39mif\u001b[39;00m timeout \u001b[39mis\u001b[39;00m \u001b[39mnot\u001b[39;00m \u001b[39mNone\u001b[39;00m \u001b[39mand\u001b[39;00m time\u001b[39m.\u001b[39mtime() \u001b[39m>\u001b[39m start \u001b[39m+\u001b[39m timeout:\n",
      "File \u001b[0;32m~/.local/share/virtualenvs/python-ai-env-cTwd-LQ7/lib/python3.11/site-packages/openai/api_resources/abstract/engine_api_resource.py:153\u001b[0m, in \u001b[0;36mEngineAPIResource.create\u001b[0;34m(cls, api_key, api_base, api_type, request_id, api_version, organization, **params)\u001b[0m\n\u001b[1;32m    127\u001b[0m \u001b[39m@classmethod\u001b[39m\n\u001b[1;32m    128\u001b[0m \u001b[39mdef\u001b[39;00m \u001b[39mcreate\u001b[39m(\n\u001b[1;32m    129\u001b[0m     \u001b[39mcls\u001b[39m,\n\u001b[0;32m   (...)\u001b[0m\n\u001b[1;32m    136\u001b[0m     \u001b[39m*\u001b[39m\u001b[39m*\u001b[39mparams,\n\u001b[1;32m    137\u001b[0m ):\n\u001b[1;32m    138\u001b[0m     (\n\u001b[1;32m    139\u001b[0m         deployment_id,\n\u001b[1;32m    140\u001b[0m         engine,\n\u001b[0;32m   (...)\u001b[0m\n\u001b[1;32m    150\u001b[0m         api_key, api_base, api_type, api_version, organization, \u001b[39m*\u001b[39m\u001b[39m*\u001b[39mparams\n\u001b[1;32m    151\u001b[0m     )\n\u001b[0;32m--> 153\u001b[0m     response, _, api_key \u001b[39m=\u001b[39m requestor\u001b[39m.\u001b[39;49mrequest(\n\u001b[1;32m    154\u001b[0m         \u001b[39m\"\u001b[39;49m\u001b[39mpost\u001b[39;49m\u001b[39m\"\u001b[39;49m,\n\u001b[1;32m    155\u001b[0m         url,\n\u001b[1;32m    156\u001b[0m         params\u001b[39m=\u001b[39;49mparams,\n\u001b[1;32m    157\u001b[0m         headers\u001b[39m=\u001b[39;49mheaders,\n\u001b[1;32m    158\u001b[0m         stream\u001b[39m=\u001b[39;49mstream,\n\u001b[1;32m    159\u001b[0m         request_id\u001b[39m=\u001b[39;49mrequest_id,\n\u001b[1;32m    160\u001b[0m         request_timeout\u001b[39m=\u001b[39;49mrequest_timeout,\n\u001b[1;32m    161\u001b[0m     )\n\u001b[1;32m    163\u001b[0m     \u001b[39mif\u001b[39;00m stream:\n\u001b[1;32m    164\u001b[0m         \u001b[39m# must be an iterator\u001b[39;00m\n\u001b[1;32m    165\u001b[0m         \u001b[39massert\u001b[39;00m \u001b[39mnot\u001b[39;00m \u001b[39misinstance\u001b[39m(response, OpenAIResponse)\n",
      "File \u001b[0;32m~/.local/share/virtualenvs/python-ai-env-cTwd-LQ7/lib/python3.11/site-packages/openai/api_requestor.py:216\u001b[0m, in \u001b[0;36mAPIRequestor.request\u001b[0;34m(self, method, url, params, headers, files, stream, request_id, request_timeout)\u001b[0m\n\u001b[1;32m    205\u001b[0m \u001b[39mdef\u001b[39;00m \u001b[39mrequest\u001b[39m(\n\u001b[1;32m    206\u001b[0m     \u001b[39mself\u001b[39m,\n\u001b[1;32m    207\u001b[0m     method,\n\u001b[0;32m   (...)\u001b[0m\n\u001b[1;32m    214\u001b[0m     request_timeout: Optional[Union[\u001b[39mfloat\u001b[39m, Tuple[\u001b[39mfloat\u001b[39m, \u001b[39mfloat\u001b[39m]]] \u001b[39m=\u001b[39m \u001b[39mNone\u001b[39;00m,\n\u001b[1;32m    215\u001b[0m ) \u001b[39m-\u001b[39m\u001b[39m>\u001b[39m Tuple[Union[OpenAIResponse, Iterator[OpenAIResponse]], \u001b[39mbool\u001b[39m, \u001b[39mstr\u001b[39m]:\n\u001b[0;32m--> 216\u001b[0m     result \u001b[39m=\u001b[39m \u001b[39mself\u001b[39;49m\u001b[39m.\u001b[39;49mrequest_raw(\n\u001b[1;32m    217\u001b[0m         method\u001b[39m.\u001b[39;49mlower(),\n\u001b[1;32m    218\u001b[0m         url,\n\u001b[1;32m    219\u001b[0m         params\u001b[39m=\u001b[39;49mparams,\n\u001b[1;32m    220\u001b[0m         supplied_headers\u001b[39m=\u001b[39;49mheaders,\n\u001b[1;32m    221\u001b[0m         files\u001b[39m=\u001b[39;49mfiles,\n\u001b[1;32m    222\u001b[0m         stream\u001b[39m=\u001b[39;49mstream,\n\u001b[1;32m    223\u001b[0m         request_id\u001b[39m=\u001b[39;49mrequest_id,\n\u001b[1;32m    224\u001b[0m         request_timeout\u001b[39m=\u001b[39;49mrequest_timeout,\n\u001b[1;32m    225\u001b[0m     )\n\u001b[1;32m    226\u001b[0m     resp, got_stream \u001b[39m=\u001b[39m \u001b[39mself\u001b[39m\u001b[39m.\u001b[39m_interpret_response(result, stream)\n\u001b[1;32m    227\u001b[0m     \u001b[39mreturn\u001b[39;00m resp, got_stream, \u001b[39mself\u001b[39m\u001b[39m.\u001b[39mapi_key\n",
      "File \u001b[0;32m~/.local/share/virtualenvs/python-ai-env-cTwd-LQ7/lib/python3.11/site-packages/openai/api_requestor.py:516\u001b[0m, in \u001b[0;36mAPIRequestor.request_raw\u001b[0;34m(self, method, url, params, supplied_headers, files, stream, request_id, request_timeout)\u001b[0m\n\u001b[1;32m    514\u001b[0m     _thread_context\u001b[39m.\u001b[39msession \u001b[39m=\u001b[39m _make_session()\n\u001b[1;32m    515\u001b[0m \u001b[39mtry\u001b[39;00m:\n\u001b[0;32m--> 516\u001b[0m     result \u001b[39m=\u001b[39m _thread_context\u001b[39m.\u001b[39;49msession\u001b[39m.\u001b[39;49mrequest(\n\u001b[1;32m    517\u001b[0m         method,\n\u001b[1;32m    518\u001b[0m         abs_url,\n\u001b[1;32m    519\u001b[0m         headers\u001b[39m=\u001b[39;49mheaders,\n\u001b[1;32m    520\u001b[0m         data\u001b[39m=\u001b[39;49mdata,\n\u001b[1;32m    521\u001b[0m         files\u001b[39m=\u001b[39;49mfiles,\n\u001b[1;32m    522\u001b[0m         stream\u001b[39m=\u001b[39;49mstream,\n\u001b[1;32m    523\u001b[0m         timeout\u001b[39m=\u001b[39;49mrequest_timeout \u001b[39mif\u001b[39;49;00m request_timeout \u001b[39melse\u001b[39;49;00m TIMEOUT_SECS,\n\u001b[1;32m    524\u001b[0m         proxies\u001b[39m=\u001b[39;49m_thread_context\u001b[39m.\u001b[39;49msession\u001b[39m.\u001b[39;49mproxies,\n\u001b[1;32m    525\u001b[0m     )\n\u001b[1;32m    526\u001b[0m \u001b[39mexcept\u001b[39;00m requests\u001b[39m.\u001b[39mexceptions\u001b[39m.\u001b[39mTimeout \u001b[39mas\u001b[39;00m e:\n\u001b[1;32m    527\u001b[0m     \u001b[39mraise\u001b[39;00m error\u001b[39m.\u001b[39mTimeout(\u001b[39m\"\u001b[39m\u001b[39mRequest timed out: \u001b[39m\u001b[39m{}\u001b[39;00m\u001b[39m\"\u001b[39m\u001b[39m.\u001b[39mformat(e)) \u001b[39mfrom\u001b[39;00m \u001b[39me\u001b[39;00m\n",
      "File \u001b[0;32m~/.local/share/virtualenvs/python-ai-env-cTwd-LQ7/lib/python3.11/site-packages/requests/sessions.py:587\u001b[0m, in \u001b[0;36mSession.request\u001b[0;34m(self, method, url, params, data, headers, cookies, files, auth, timeout, allow_redirects, proxies, hooks, stream, verify, cert, json)\u001b[0m\n\u001b[1;32m    582\u001b[0m send_kwargs \u001b[39m=\u001b[39m {\n\u001b[1;32m    583\u001b[0m     \u001b[39m\"\u001b[39m\u001b[39mtimeout\u001b[39m\u001b[39m\"\u001b[39m: timeout,\n\u001b[1;32m    584\u001b[0m     \u001b[39m\"\u001b[39m\u001b[39mallow_redirects\u001b[39m\u001b[39m\"\u001b[39m: allow_redirects,\n\u001b[1;32m    585\u001b[0m }\n\u001b[1;32m    586\u001b[0m send_kwargs\u001b[39m.\u001b[39mupdate(settings)\n\u001b[0;32m--> 587\u001b[0m resp \u001b[39m=\u001b[39m \u001b[39mself\u001b[39;49m\u001b[39m.\u001b[39;49msend(prep, \u001b[39m*\u001b[39;49m\u001b[39m*\u001b[39;49msend_kwargs)\n\u001b[1;32m    589\u001b[0m \u001b[39mreturn\u001b[39;00m resp\n",
      "File \u001b[0;32m~/.local/share/virtualenvs/python-ai-env-cTwd-LQ7/lib/python3.11/site-packages/requests/sessions.py:701\u001b[0m, in \u001b[0;36mSession.send\u001b[0;34m(self, request, **kwargs)\u001b[0m\n\u001b[1;32m    698\u001b[0m start \u001b[39m=\u001b[39m preferred_clock()\n\u001b[1;32m    700\u001b[0m \u001b[39m# Send the request\u001b[39;00m\n\u001b[0;32m--> 701\u001b[0m r \u001b[39m=\u001b[39m adapter\u001b[39m.\u001b[39;49msend(request, \u001b[39m*\u001b[39;49m\u001b[39m*\u001b[39;49mkwargs)\n\u001b[1;32m    703\u001b[0m \u001b[39m# Total elapsed time of the request (approximately)\u001b[39;00m\n\u001b[1;32m    704\u001b[0m elapsed \u001b[39m=\u001b[39m preferred_clock() \u001b[39m-\u001b[39m start\n",
      "File \u001b[0;32m~/.local/share/virtualenvs/python-ai-env-cTwd-LQ7/lib/python3.11/site-packages/requests/adapters.py:489\u001b[0m, in \u001b[0;36mHTTPAdapter.send\u001b[0;34m(self, request, stream, timeout, verify, cert, proxies)\u001b[0m\n\u001b[1;32m    487\u001b[0m \u001b[39mtry\u001b[39;00m:\n\u001b[1;32m    488\u001b[0m     \u001b[39mif\u001b[39;00m \u001b[39mnot\u001b[39;00m chunked:\n\u001b[0;32m--> 489\u001b[0m         resp \u001b[39m=\u001b[39m conn\u001b[39m.\u001b[39;49murlopen(\n\u001b[1;32m    490\u001b[0m             method\u001b[39m=\u001b[39;49mrequest\u001b[39m.\u001b[39;49mmethod,\n\u001b[1;32m    491\u001b[0m             url\u001b[39m=\u001b[39;49murl,\n\u001b[1;32m    492\u001b[0m             body\u001b[39m=\u001b[39;49mrequest\u001b[39m.\u001b[39;49mbody,\n\u001b[1;32m    493\u001b[0m             headers\u001b[39m=\u001b[39;49mrequest\u001b[39m.\u001b[39;49mheaders,\n\u001b[1;32m    494\u001b[0m             redirect\u001b[39m=\u001b[39;49m\u001b[39mFalse\u001b[39;49;00m,\n\u001b[1;32m    495\u001b[0m             assert_same_host\u001b[39m=\u001b[39;49m\u001b[39mFalse\u001b[39;49;00m,\n\u001b[1;32m    496\u001b[0m             preload_content\u001b[39m=\u001b[39;49m\u001b[39mFalse\u001b[39;49;00m,\n\u001b[1;32m    497\u001b[0m             decode_content\u001b[39m=\u001b[39;49m\u001b[39mFalse\u001b[39;49;00m,\n\u001b[1;32m    498\u001b[0m             retries\u001b[39m=\u001b[39;49m\u001b[39mself\u001b[39;49m\u001b[39m.\u001b[39;49mmax_retries,\n\u001b[1;32m    499\u001b[0m             timeout\u001b[39m=\u001b[39;49mtimeout,\n\u001b[1;32m    500\u001b[0m         )\n\u001b[1;32m    502\u001b[0m     \u001b[39m# Send the request.\u001b[39;00m\n\u001b[1;32m    503\u001b[0m     \u001b[39melse\u001b[39;00m:\n\u001b[1;32m    504\u001b[0m         \u001b[39mif\u001b[39;00m \u001b[39mhasattr\u001b[39m(conn, \u001b[39m\"\u001b[39m\u001b[39mproxy_pool\u001b[39m\u001b[39m\"\u001b[39m):\n",
      "File \u001b[0;32m~/.local/share/virtualenvs/python-ai-env-cTwd-LQ7/lib/python3.11/site-packages/urllib3/connectionpool.py:703\u001b[0m, in \u001b[0;36mHTTPConnectionPool.urlopen\u001b[0;34m(self, method, url, body, headers, retries, redirect, assert_same_host, timeout, pool_timeout, release_conn, chunked, body_pos, **response_kw)\u001b[0m\n\u001b[1;32m    700\u001b[0m     \u001b[39mself\u001b[39m\u001b[39m.\u001b[39m_prepare_proxy(conn)\n\u001b[1;32m    702\u001b[0m \u001b[39m# Make the request on the httplib connection object.\u001b[39;00m\n\u001b[0;32m--> 703\u001b[0m httplib_response \u001b[39m=\u001b[39m \u001b[39mself\u001b[39;49m\u001b[39m.\u001b[39;49m_make_request(\n\u001b[1;32m    704\u001b[0m     conn,\n\u001b[1;32m    705\u001b[0m     method,\n\u001b[1;32m    706\u001b[0m     url,\n\u001b[1;32m    707\u001b[0m     timeout\u001b[39m=\u001b[39;49mtimeout_obj,\n\u001b[1;32m    708\u001b[0m     body\u001b[39m=\u001b[39;49mbody,\n\u001b[1;32m    709\u001b[0m     headers\u001b[39m=\u001b[39;49mheaders,\n\u001b[1;32m    710\u001b[0m     chunked\u001b[39m=\u001b[39;49mchunked,\n\u001b[1;32m    711\u001b[0m )\n\u001b[1;32m    713\u001b[0m \u001b[39m# If we're going to release the connection in ``finally:``, then\u001b[39;00m\n\u001b[1;32m    714\u001b[0m \u001b[39m# the response doesn't need to know about the connection. Otherwise\u001b[39;00m\n\u001b[1;32m    715\u001b[0m \u001b[39m# it will also try to release it and we'll have a double-release\u001b[39;00m\n\u001b[1;32m    716\u001b[0m \u001b[39m# mess.\u001b[39;00m\n\u001b[1;32m    717\u001b[0m response_conn \u001b[39m=\u001b[39m conn \u001b[39mif\u001b[39;00m \u001b[39mnot\u001b[39;00m release_conn \u001b[39melse\u001b[39;00m \u001b[39mNone\u001b[39;00m\n",
      "File \u001b[0;32m~/.local/share/virtualenvs/python-ai-env-cTwd-LQ7/lib/python3.11/site-packages/urllib3/connectionpool.py:449\u001b[0m, in \u001b[0;36mHTTPConnectionPool._make_request\u001b[0;34m(self, conn, method, url, timeout, chunked, **httplib_request_kw)\u001b[0m\n\u001b[1;32m    444\u001b[0m             httplib_response \u001b[39m=\u001b[39m conn\u001b[39m.\u001b[39mgetresponse()\n\u001b[1;32m    445\u001b[0m         \u001b[39mexcept\u001b[39;00m \u001b[39mBaseException\u001b[39;00m \u001b[39mas\u001b[39;00m e:\n\u001b[1;32m    446\u001b[0m             \u001b[39m# Remove the TypeError from the exception chain in\u001b[39;00m\n\u001b[1;32m    447\u001b[0m             \u001b[39m# Python 3 (including for exceptions like SystemExit).\u001b[39;00m\n\u001b[1;32m    448\u001b[0m             \u001b[39m# Otherwise it looks like a bug in the code.\u001b[39;00m\n\u001b[0;32m--> 449\u001b[0m             six\u001b[39m.\u001b[39;49mraise_from(e, \u001b[39mNone\u001b[39;49;00m)\n\u001b[1;32m    450\u001b[0m \u001b[39mexcept\u001b[39;00m (SocketTimeout, BaseSSLError, SocketError) \u001b[39mas\u001b[39;00m e:\n\u001b[1;32m    451\u001b[0m     \u001b[39mself\u001b[39m\u001b[39m.\u001b[39m_raise_timeout(err\u001b[39m=\u001b[39me, url\u001b[39m=\u001b[39murl, timeout_value\u001b[39m=\u001b[39mread_timeout)\n",
      "File \u001b[0;32m<string>:3\u001b[0m, in \u001b[0;36mraise_from\u001b[0;34m(value, from_value)\u001b[0m\n",
      "File \u001b[0;32m~/.local/share/virtualenvs/python-ai-env-cTwd-LQ7/lib/python3.11/site-packages/urllib3/connectionpool.py:444\u001b[0m, in \u001b[0;36mHTTPConnectionPool._make_request\u001b[0;34m(self, conn, method, url, timeout, chunked, **httplib_request_kw)\u001b[0m\n\u001b[1;32m    441\u001b[0m \u001b[39mexcept\u001b[39;00m \u001b[39mTypeError\u001b[39;00m:\n\u001b[1;32m    442\u001b[0m     \u001b[39m# Python 3\u001b[39;00m\n\u001b[1;32m    443\u001b[0m     \u001b[39mtry\u001b[39;00m:\n\u001b[0;32m--> 444\u001b[0m         httplib_response \u001b[39m=\u001b[39m conn\u001b[39m.\u001b[39;49mgetresponse()\n\u001b[1;32m    445\u001b[0m     \u001b[39mexcept\u001b[39;00m \u001b[39mBaseException\u001b[39;00m \u001b[39mas\u001b[39;00m e:\n\u001b[1;32m    446\u001b[0m         \u001b[39m# Remove the TypeError from the exception chain in\u001b[39;00m\n\u001b[1;32m    447\u001b[0m         \u001b[39m# Python 3 (including for exceptions like SystemExit).\u001b[39;00m\n\u001b[1;32m    448\u001b[0m         \u001b[39m# Otherwise it looks like a bug in the code.\u001b[39;00m\n\u001b[1;32m    449\u001b[0m         six\u001b[39m.\u001b[39mraise_from(e, \u001b[39mNone\u001b[39;00m)\n",
      "File \u001b[0;32m/opt/homebrew/Cellar/python@3.11/3.11.2_1/Frameworks/Python.framework/Versions/3.11/lib/python3.11/http/client.py:1374\u001b[0m, in \u001b[0;36mHTTPConnection.getresponse\u001b[0;34m(self)\u001b[0m\n\u001b[1;32m   1372\u001b[0m \u001b[39mtry\u001b[39;00m:\n\u001b[1;32m   1373\u001b[0m     \u001b[39mtry\u001b[39;00m:\n\u001b[0;32m-> 1374\u001b[0m         response\u001b[39m.\u001b[39;49mbegin()\n\u001b[1;32m   1375\u001b[0m     \u001b[39mexcept\u001b[39;00m \u001b[39mConnectionError\u001b[39;00m:\n\u001b[1;32m   1376\u001b[0m         \u001b[39mself\u001b[39m\u001b[39m.\u001b[39mclose()\n",
      "File \u001b[0;32m/opt/homebrew/Cellar/python@3.11/3.11.2_1/Frameworks/Python.framework/Versions/3.11/lib/python3.11/http/client.py:318\u001b[0m, in \u001b[0;36mHTTPResponse.begin\u001b[0;34m(self)\u001b[0m\n\u001b[1;32m    316\u001b[0m \u001b[39m# read until we get a non-100 response\u001b[39;00m\n\u001b[1;32m    317\u001b[0m \u001b[39mwhile\u001b[39;00m \u001b[39mTrue\u001b[39;00m:\n\u001b[0;32m--> 318\u001b[0m     version, status, reason \u001b[39m=\u001b[39m \u001b[39mself\u001b[39;49m\u001b[39m.\u001b[39;49m_read_status()\n\u001b[1;32m    319\u001b[0m     \u001b[39mif\u001b[39;00m status \u001b[39m!=\u001b[39m CONTINUE:\n\u001b[1;32m    320\u001b[0m         \u001b[39mbreak\u001b[39;00m\n",
      "File \u001b[0;32m/opt/homebrew/Cellar/python@3.11/3.11.2_1/Frameworks/Python.framework/Versions/3.11/lib/python3.11/http/client.py:279\u001b[0m, in \u001b[0;36mHTTPResponse._read_status\u001b[0;34m(self)\u001b[0m\n\u001b[1;32m    278\u001b[0m \u001b[39mdef\u001b[39;00m \u001b[39m_read_status\u001b[39m(\u001b[39mself\u001b[39m):\n\u001b[0;32m--> 279\u001b[0m     line \u001b[39m=\u001b[39m \u001b[39mstr\u001b[39m(\u001b[39mself\u001b[39m\u001b[39m.\u001b[39mfp\u001b[39m.\u001b[39mreadline(_MAXLINE \u001b[39m+\u001b[39m \u001b[39m1\u001b[39m), \u001b[39m\"\u001b[39m\u001b[39miso-8859-1\u001b[39m\u001b[39m\"\u001b[39m)\n\u001b[1;32m    280\u001b[0m     \u001b[39mif\u001b[39;00m \u001b[39mlen\u001b[39m(line) \u001b[39m>\u001b[39m _MAXLINE:\n\u001b[1;32m    281\u001b[0m         \u001b[39mraise\u001b[39;00m LineTooLong(\u001b[39m\"\u001b[39m\u001b[39mstatus line\u001b[39m\u001b[39m\"\u001b[39m)\n",
      "File \u001b[0;32m/opt/homebrew/Cellar/python@3.11/3.11.2_1/Frameworks/Python.framework/Versions/3.11/lib/python3.11/socket.py:706\u001b[0m, in \u001b[0;36mSocketIO.readinto\u001b[0;34m(self, b)\u001b[0m\n\u001b[1;32m    704\u001b[0m \u001b[39mwhile\u001b[39;00m \u001b[39mTrue\u001b[39;00m:\n\u001b[1;32m    705\u001b[0m     \u001b[39mtry\u001b[39;00m:\n\u001b[0;32m--> 706\u001b[0m         \u001b[39mreturn\u001b[39;00m \u001b[39mself\u001b[39;49m\u001b[39m.\u001b[39;49m_sock\u001b[39m.\u001b[39;49mrecv_into(b)\n\u001b[1;32m    707\u001b[0m     \u001b[39mexcept\u001b[39;00m timeout:\n\u001b[1;32m    708\u001b[0m         \u001b[39mself\u001b[39m\u001b[39m.\u001b[39m_timeout_occurred \u001b[39m=\u001b[39m \u001b[39mTrue\u001b[39;00m\n",
      "File \u001b[0;32m/opt/homebrew/Cellar/python@3.11/3.11.2_1/Frameworks/Python.framework/Versions/3.11/lib/python3.11/ssl.py:1278\u001b[0m, in \u001b[0;36mSSLSocket.recv_into\u001b[0;34m(self, buffer, nbytes, flags)\u001b[0m\n\u001b[1;32m   1274\u001b[0m     \u001b[39mif\u001b[39;00m flags \u001b[39m!=\u001b[39m \u001b[39m0\u001b[39m:\n\u001b[1;32m   1275\u001b[0m         \u001b[39mraise\u001b[39;00m \u001b[39mValueError\u001b[39;00m(\n\u001b[1;32m   1276\u001b[0m           \u001b[39m\"\u001b[39m\u001b[39mnon-zero flags not allowed in calls to recv_into() on \u001b[39m\u001b[39m%s\u001b[39;00m\u001b[39m\"\u001b[39m \u001b[39m%\u001b[39m\n\u001b[1;32m   1277\u001b[0m           \u001b[39mself\u001b[39m\u001b[39m.\u001b[39m\u001b[39m__class__\u001b[39m)\n\u001b[0;32m-> 1278\u001b[0m     \u001b[39mreturn\u001b[39;00m \u001b[39mself\u001b[39;49m\u001b[39m.\u001b[39;49mread(nbytes, buffer)\n\u001b[1;32m   1279\u001b[0m \u001b[39melse\u001b[39;00m:\n\u001b[1;32m   1280\u001b[0m     \u001b[39mreturn\u001b[39;00m \u001b[39msuper\u001b[39m()\u001b[39m.\u001b[39mrecv_into(buffer, nbytes, flags)\n",
      "File \u001b[0;32m/opt/homebrew/Cellar/python@3.11/3.11.2_1/Frameworks/Python.framework/Versions/3.11/lib/python3.11/ssl.py:1134\u001b[0m, in \u001b[0;36mSSLSocket.read\u001b[0;34m(self, len, buffer)\u001b[0m\n\u001b[1;32m   1132\u001b[0m \u001b[39mtry\u001b[39;00m:\n\u001b[1;32m   1133\u001b[0m     \u001b[39mif\u001b[39;00m buffer \u001b[39mis\u001b[39;00m \u001b[39mnot\u001b[39;00m \u001b[39mNone\u001b[39;00m:\n\u001b[0;32m-> 1134\u001b[0m         \u001b[39mreturn\u001b[39;00m \u001b[39mself\u001b[39;49m\u001b[39m.\u001b[39;49m_sslobj\u001b[39m.\u001b[39;49mread(\u001b[39mlen\u001b[39;49m, buffer)\n\u001b[1;32m   1135\u001b[0m     \u001b[39melse\u001b[39;00m:\n\u001b[1;32m   1136\u001b[0m         \u001b[39mreturn\u001b[39;00m \u001b[39mself\u001b[39m\u001b[39m.\u001b[39m_sslobj\u001b[39m.\u001b[39mread(\u001b[39mlen\u001b[39m)\n",
      "\u001b[0;31mKeyboardInterrupt\u001b[0m: "
     ]
    }
   ],
   "source": [
    "image_prompt = next(iter)\n",
    "\n",
    "print(frames[3])\n",
    "print('\\n################################################################################################################\\n')\n",
    "print(image_prompt)\n",
    "\n",
    "imodel.text2image(image_prompt, neg=negative)"
   ]
  },
  {
   "cell_type": "code",
   "execution_count": null,
   "metadata": {},
   "outputs": [],
   "source": []
  },
  {
   "cell_type": "code",
   "execution_count": null,
   "metadata": {},
   "outputs": [
    {
     "ename": "NameError",
     "evalue": "name 'prompt' is not defined",
     "output_type": "error",
     "traceback": [
      "\u001b[0;31m---------------------------------------------------------------------------\u001b[0m",
      "\u001b[0;31mNameError\u001b[0m                                 Traceback (most recent call last)",
      "Cell \u001b[0;32mIn[8], line 1\u001b[0m\n\u001b[0;32m----> 1\u001b[0m imodel\u001b[39m.\u001b[39mtext2image(prompt, neg\u001b[39m=\u001b[39mnegative)\n",
      "\u001b[0;31mNameError\u001b[0m: name 'prompt' is not defined"
     ]
    }
   ],
   "source": [
    "imodel.text2image(prompt, neg=negative)"
   ]
  },
  {
   "cell_type": "code",
   "execution_count": null,
   "metadata": {},
   "outputs": [
    {
     "name": "stdout",
     "output_type": "stream",
     "text": [
      "One day, Leo decided to take a journey to the outer reaches of space.\n",
      "\n",
      "\n",
      "################################################################################################################\n",
      "\n",
      "Leo ((journeying)) to the ((outer reaches)) of space with a ((space dragon)) looming in the background.\n",
      "The image would show Leo, a small figure in comparison to the massive space dragon looming in the background, standing atop a large asteroid.\n",
      "Leo looks determined, with his shoulders back and his chin up, as he gazes out into the vastness of space.\n",
      "The space dragon is seen in all its glory, with its wings outstretched and its head held high.\n",
      "Its scales shimmer in the light of the stars, giving off a blue hue.\n",
      "Its golden eyes and sharp teeth are visible, along with its two horns and its long, whip-like tail.\n",
      "The smoky breath of the dragon is billowing out, creating an atmosphere of danger and adventure.\n",
      ".\n"
     ]
    }
   ],
   "source": [
    "index += 1\n",
    "frame = frames[index]\n",
    "prompt, entities = auto_image_prompting.pipeline(tmodel, frame, story)\n",
    "print(frame)\n",
    "print('\\n################################################################################################################\\n')\n",
    "print_texts(prompt)"
   ]
  },
  {
   "cell_type": "code",
   "execution_count": null,
   "metadata": {},
   "outputs": [
    {
     "name": "stdout",
     "output_type": "stream",
     "text": [
      "......... generate by seed 3507418928\n"
     ]
    },
    {
     "data": {
      "text/html": [
       "<img src=\"https://pub-8b49af329fae499aa563997f5d4068a4.r2.dev/generations/c86b51cb-83c0-490d-aae4-f8c65fe08b72-0.png\"/>"
      ],
      "text/plain": [
       "<IPython.core.display.Image object>"
      ]
     },
     "execution_count": 10,
     "metadata": {},
     "output_type": "execute_result"
    }
   ],
   "source": [
    "imodel.text2image(prompt, neg=negative)"
   ]
  },
  {
   "cell_type": "code",
   "execution_count": null,
   "metadata": {},
   "outputs": [
    {
     "name": "stdout",
     "output_type": "stream",
     "text": [
      "He traveled to the furthest galaxies and explored many strange and mysterious planets. He was amazed by the sights he saw and the creatures he encountered.\n",
      "\n",
      "\n",
      "################################################################################################################\n",
      "\n",
      "A giant ((space dragon)) flying through ((galaxies)) and ((planets)).\n",
      "The image shows a giant space dragon flying through a deep blue night sky, illuminated by the bright stars of distant galaxies.\n",
      "Its wings are spread wide and its tail is coiled behind it, propelling it forward.\n",
      "Its long serpent-like body is covered in deep blue scales that glimmer in the night sky.\n",
      "Its bright yellow eyes, sharp claws, and razor-sharp fangs make it look menacing, but its deep black horns, smokey breath and the many languages it speaks make it look wise and ancient.\n",
      "The dragon is surrounded by the many strange and mysterious planets that it has explored, each one unique and beautiful in its own way.\n",
      ".\n"
     ]
    }
   ],
   "source": [
    "index += 1\n",
    "frame = frames[index]\n",
    "prompt, entities = auto_image_prompting.pipeline(tmodel, frame, story)\n",
    "print(frame)\n",
    "print('\\n################################################################################################################\\n')\n",
    "print_texts(prompt)"
   ]
  },
  {
   "cell_type": "code",
   "execution_count": null,
   "metadata": {},
   "outputs": [
    {
     "name": "stdout",
     "output_type": "stream",
     "text": [
      "......... generate by seed 3507418928\n"
     ]
    },
    {
     "data": {
      "text/html": [
       "<img src=\"https://pub-8b49af329fae499aa563997f5d4068a4.r2.dev/generations/5a9332d8-5144-4a33-bce7-64ed56e38426-0.png\"/>"
      ],
      "text/plain": [
       "<IPython.core.display.Image object>"
      ]
     },
     "execution_count": 12,
     "metadata": {},
     "output_type": "execute_result"
    }
   ],
   "source": [
    "imodel.text2image(prompt, neg=negative)"
   ]
  },
  {
   "cell_type": "code",
   "execution_count": null,
   "metadata": {},
   "outputs": [
    {
     "name": "stdout",
     "output_type": "stream",
     "text": [
      "Leo kept journeying further and further, until he eventually found himself in an unknown part of the universe. He had never seen anything like it before. He was in awe at the beauty of what he saw and could not believe his eyes.\n",
      "\n",
      "\n",
      "################################################################################################################\n",
      "\n",
      "((Leo)) is watching the ((universe)) in aw and amazement.\n",
      "The image depicts Leo standing in awe and amazement, his eyes wide open, as he looks up into the night sky.\n",
      "He is surrounded by an infinite expanse of stars, galaxies, and nebulae, illuminated by a brilliant display of light and color.\n",
      "The vastness of the universe is overwhelming, and Leo is overwhelmed by the sheer beauty and magnitude of what he is seeing.\n",
      "He is standing on a rocky, barren planet, and the stars and galaxies stretch out in every direction as far as the eye can see.\n",
      ".\n"
     ]
    }
   ],
   "source": [
    "index += 1\n",
    "frame = frames[index]\n",
    "prompt, entities = auto_image_prompting.pipeline(tmodel, frame, story)\n",
    "print(frame)\n",
    "print('\\n################################################################################################################\\n')\n",
    "print_texts(prompt)"
   ]
  },
  {
   "cell_type": "code",
   "execution_count": null,
   "metadata": {},
   "outputs": [
    {
     "name": "stdout",
     "output_type": "stream",
     "text": [
      "......... generate by seed 3507418928\n"
     ]
    },
    {
     "data": {
      "text/html": [
       "<img src=\"https://pub-8b49af329fae499aa563997f5d4068a4.r2.dev/generations/2168a537-0afb-43bc-98c2-03779882d2d6-0.png\"/>"
      ],
      "text/plain": [
       "<IPython.core.display.Image object>"
      ]
     },
     "execution_count": 14,
     "metadata": {},
     "output_type": "execute_result"
    }
   ],
   "source": [
    "imodel.text2image(prompt, neg=negative)"
   ]
  },
  {
   "cell_type": "code",
   "execution_count": null,
   "metadata": {},
   "outputs": [
    {
     "name": "stdout",
     "output_type": "stream",
     "text": [
      "Leo encountered a strange creature that was living in this unknown part of the universe. He realized that it was a giant space dragon.\n",
      "\n",
      "\n",
      "################################################################################################################\n",
      "\n",
      "((Leo)) is looking at a ((giant space dragon)) in an ((unknown part)) of the universe.\n",
      "The dragon is an impressive sight with its long, sinuous body covered in shimmering scales of blue, green, and purple.\n",
      "Its wings are made of shimmering silver and its eyes glow a fierce yellow.\n",
      "Its powerful legs are tipped with razor sharp claws, and its tail is whipping around as it moves.\n",
      "Its head is crowned with huge horns and its mouth is filled with sharp teeth.\n",
      "Its breath is hot and smoky and its deep booming voice echoes through the stars.\n",
      "Leo is standing in an unknown part of the universe, a look of amazement on his face.\n",
      ".\n"
     ]
    }
   ],
   "source": [
    "index += 1\n",
    "frame = frames[index]\n",
    "prompt, entities = auto_image_prompting.pipeline(tmodel, frame, story)\n",
    "print(frame)\n",
    "print('\\n################################################################################################################\\n')\n",
    "print_texts(prompt)"
   ]
  },
  {
   "cell_type": "code",
   "execution_count": null,
   "metadata": {},
   "outputs": [
    {
     "name": "stdout",
     "output_type": "stream",
     "text": [
      "......... generate by seed 3507418928\n"
     ]
    },
    {
     "data": {
      "text/html": [
       "<img src=\"https://pub-8b49af329fae499aa563997f5d4068a4.r2.dev/generations/5524811f-740c-4ee2-976b-4a7523317e43-0.png\"/>"
      ],
      "text/plain": [
       "<IPython.core.display.Image object>"
      ]
     },
     "execution_count": 16,
     "metadata": {},
     "output_type": "execute_result"
    }
   ],
   "source": [
    "imodel.text2image(prompt, neg=negative)"
   ]
  },
  {
   "cell_type": "code",
   "execution_count": null,
   "metadata": {},
   "outputs": [
    {
     "name": "stdout",
     "output_type": "stream",
     "text": [
      "Leo was very scared at first, but he soon realized that the dragon was kind and gentle. \n",
      "\n",
      "\n",
      "################################################################################################################\n",
      "\n",
      "Leo is looking at the ((dragon)) with ((fear)) and ((awe)).\n",
      "The dragon is standing tall, with its wings spread wide and its claws held protectively in front of its body.\n",
      "Its eyes are looking down at Leo with a gentle expression and its tail is curled around its body.\n",
      "The dragon's scales are a deep blue and glisten in the starlight.\n",
      "Leo's face is illuminated by the dragon's bright yellow eyes as he takes in the immense size of the creature.\n",
      ".\n"
     ]
    }
   ],
   "source": [
    "index += 1\n",
    "frame = frames[index]\n",
    "prompt, entities = auto_image_prompting.pipeline(tmodel, frame, story)\n",
    "print(frame)\n",
    "print('\\n################################################################################################################\\n')\n",
    "print_texts(prompt)"
   ]
  },
  {
   "cell_type": "code",
   "execution_count": null,
   "metadata": {},
   "outputs": [
    {
     "name": "stdout",
     "output_type": "stream",
     "text": [
      "......... generate by seed 3507418928\n"
     ]
    },
    {
     "data": {
      "text/html": [
       "<img src=\"https://pub-8b49af329fae499aa563997f5d4068a4.r2.dev/generations/d0659288-01de-4a35-bfaf-74928e69a6cd-0.png\"/>"
      ],
      "text/plain": [
       "<IPython.core.display.Image object>"
      ]
     },
     "execution_count": 18,
     "metadata": {},
     "output_type": "execute_result"
    }
   ],
   "source": [
    "imodel.text2image(prompt, neg=negative)"
   ]
  },
  {
   "cell_type": "code",
   "execution_count": null,
   "metadata": {},
   "outputs": [],
   "source": []
  }
 ],
 "metadata": {
  "kernelspec": {
   "display_name": "ai-env",
   "language": "python",
   "name": "ai-env"
  },
  "language_info": {
   "codemirror_mode": {
    "name": "ipython",
    "version": 3
   },
   "file_extension": ".py",
   "mimetype": "text/x-python",
   "name": "python",
   "nbconvert_exporter": "python",
   "pygments_lexer": "ipython3",
   "version": "3.11.2"
  },
  "orig_nbformat": 4
 },
 "nbformat": 4,
 "nbformat_minor": 2
}
