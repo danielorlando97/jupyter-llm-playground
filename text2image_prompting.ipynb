{
 "cells": [
  {
   "cell_type": "code",
   "execution_count": 1,
   "metadata": {},
   "outputs": [],
   "source": [
    "import openai\n",
    "from IPython.display import Image\n",
    "from typing import Literal, Union\n",
    "import re\n",
    "from src.text.open_ai import OpenAITextGeneration, OpenAITextModelConfig\n",
    "from src.images.stable_diffusion_api import StableDiffusionApi\n",
    "from src.formatter.text import print_texts"
   ]
  },
  {
   "cell_type": "code",
   "execution_count": 2,
   "metadata": {},
   "outputs": [],
   "source": [
    "tmodel = OpenAITextGeneration()\n",
    "imodel = StableDiffusionApi(save_seed=True, image_formatter=lambda u: Image(url=u[0]))"
   ]
  },
  {
   "cell_type": "code",
   "execution_count": 7,
   "metadata": {},
   "outputs": [
    {
     "name": "stdout",
     "output_type": "stream",
     "text": [
      "Once upon a time , there lived a brave and adventurous young boy named Jaxon.\n",
      "Jaxon had a dream to one day go to space, but he knew it was a faraway dream since he could never afford such an expensive trip.\n",
      "One day, Jaxon was walking around town when he noticed a strange spaceship parked in the middle of the street.\n",
      "He had never seen anything like it before.\n",
      "Jaxon decided to take a closer look and as he approached the spaceship, a strange voice called out to him.\n",
      "Jaxon turned around and saw a short, green alien with three eyes and a toothy smile.\n",
      "The alien explained that he was from a faraway planet and needed Jaxon's help.\n",
      "He said that he was looking for a brave human to help him on a mission to explore the universe.\n",
      "Jaxon couldn't believe it! He was going to get to go to space after all.\n",
      "He accepted the alien's offer and they set off on their adventure.\n",
      "For the next few weeks, Jaxon and the alien explored many strange and wonderful places, from a vast icy planet to a fiery world made of lava.\n",
      "Everywhere they went, Jaxon was amazed by the beauty of the universe and the kindness of the aliens he met.\n",
      "Finally, after their long journey, Jaxon and the alien returned home.\n",
      "Jaxon was sad to say goodbye to his friend, but happy to know that he had fulfilled his lifelong dream.\n",
      "Jaxon learned a valuable lesson from his adventure: dreams can come true if you are brave enough to take a chance and go after them.\n",
      "He also learned that even if you don't have the resources to achieve your goals, you can still make them happen as long as you don't give up.\n",
      ".\n"
     ]
    }
   ],
   "source": [
    "GET_COMICS = \"\"\"This is a bot to write long stories for children.\n",
    "    \n",
    "Context: The bot's stories usually have a very important lesson for children. Today the bot will talk them about {prompt}.\n",
    "This bot when talk about people it doesn't use world like child, person, human. It always uses world which expresses the person's generous, like boy, man, woman, girl.\n",
    "It also invent a very funny name for each character and place.\n",
    "\n",
    "Story:\n",
    "Once upon a time\"\"\"\n",
    "\n",
    "prompt = 'A child go to the space'\n",
    "comics = tmodel.text2text(GET_COMICS.format(prompt=prompt))\n",
    "comics = \"Once upon a time \" + comics\n",
    "print_texts(comics)"
   ]
  },
  {
   "cell_type": "code",
   "execution_count": 8,
   "metadata": {},
   "outputs": [
    {
     "name": "stdout",
     "output_type": "stream",
     "text": [
      "1-Once upon a time , there lived a brave and adventurous young boy named Jaxon. \n",
      "2-Jaxon had a dream to one day go to space, but he knew it was a faraway dream since he could never afford such an expensive trip.\n",
      "3-One day, Jaxon was walking around town when he noticed a strange spaceship parked in the middle of the street. He had never seen anything like it before.\n",
      "4-Jaxon decided to take a closer look and as he approached the spaceship, a strange voice called out to him. Jaxon turned around and saw a short, green alien with three eyes and a toothy smile.\n",
      "5-The alien explained that he was from a faraway planet and needed Jaxon's help. He said that he was looking for a brave human to help him on a mission to explore the universe.\n",
      "6-Jaxon couldn't believe it! He was going to get to go to space after all. He accepted the alien's offer and they set off on their adventure.\n",
      "7-For the next few weeks, Jaxon and the alien explored many strange and wonderful places, from a vast icy planet to a fiery world made of lava. \n",
      "8-Everywhere they went, Jaxon was amazed by the beauty of the universe and the kindness of the aliens he met.\n",
      "9-Finally, after their long journey, Jaxon and the alien returned home. \n",
      "10-Jaxon was sad to say goodbye to his friend, but happy to know that he had fulfilled his lifelong dream.\n",
      "11-Jaxon learned a valuable lesson from his adventure: dreams can come true if you are brave enough to take a chance and go after them.\n",
      "12-He also learned that even if you don't have the resources to achieve your goals, you can still make them happen as long as you don't give up.\n"
     ]
    }
   ],
   "source": [
    "GET_SPLIT = \"\"\"This is a bot to split stories in principal frames.\n",
    "    \n",
    "Story:\n",
    "Manuel was a very curious little boy. One day, he saw a sign that said \"Beware of the forest\" and he wanted to see what was inside. So he went in.\n",
    "\n",
    "Answer:\n",
    "1-Manuel was a very curious little boy. One day, he saw a sign that said \"Beware of the forest\"\n",
    "2-He wanted to see what was inside. So he went in.\n",
    "\n",
    "Story:\n",
    "Manuel saw all kinds of animals in the forest. He saw a deer, a rabbit, and even a bear! He was so excited to see all of these animals.\n",
    "But then, Manuel saw a big, scary snake. The snake was coiled up and ready to strike. Manuel was so scared that he ran out of the forest as fast as he could.\n",
    "\n",
    "Answer:\n",
    "1-Manuel saw all kinds of animals in the forest.\n",
    "2-He saw a deer.\n",
    "3-He saw a rabbit.\n",
    "4-He even saw a bear!\n",
    "5-He was so excited to see all of these animals.\n",
    "6-But then, ....\n",
    "7-Manuel saw a big, scary snake. The snake was coiled up and ready to strike.\n",
    "8-Manuel was so scared that he ran out of the forest as fast as he could.\n",
    "\n",
    "Story:\n",
    "When he got home, he was so happy to be safe. He learned that it is always important to listen to warnings and to be careful when exploring new places.\n",
    "\n",
    "Answer:\n",
    "1-When he got home, he was so happy to be safe.\n",
    "2-He learned that it is always important to listen to warnings and to be careful when exploring new places.\n",
    "\n",
    "Story:\n",
    "Manuel was a very curious little boy. One day, he saw a sign that said \"Beware of the forest\" and he wanted to see what was inside. So he went in. \n",
    "Manuel saw all kinds of animals in the forest. He saw a deer, a rabbit, and even a bear! He was so excited to see all of these animals. \n",
    "But then, Manuel saw a big, scary snake. The snake was coiled up and ready to strike. Manuel was so scared that he ran out of the forest as fast as he could.\n",
    "When he got home, he was so happy to be safe. He learned that it is always important to listen to warnings and to be careful when exploring new places.\n",
    " \n",
    "Answer:\n",
    "1-Manuel was a very curious little boy. One day, he saw a sign that said \"Beware of the forest\"\n",
    "2-He wanted to see what was inside. So he went in.\n",
    "3-Manuel saw all kinds of animals in the forest.\n",
    "4-He saw a deer.\n",
    "5-He saw a rabbit.\n",
    "6-He even saw a bear!\n",
    "7-He was so excited to see all of these animals.\n",
    "8-But then, ....\n",
    "9-Manuel saw a big, scary snake. The snake was coiled up and ready to strike.\n",
    "10-Manuel was so scared that he ran out of the forest as fast as he could.\n",
    "11-When he got home, he was so happy to be safe.\n",
    "12-He learned that it is always important to listen to warnings and to be careful when exploring new places.\n",
    "\n",
    "Story:\n",
    "{story}\n",
    "\n",
    "Answer:\n",
    "1-\"\"\"\n",
    "\n",
    "splits = '1-' + tmodel.text2text(GET_SPLIT.format(story = comics))\n",
    "\n",
    "print(splits)\n",
    "frames = re.split(r'\\d+-\\s*', splits.strip())\n",
    "frames = frames[1:]\n"
   ]
  },
  {
   "cell_type": "code",
   "execution_count": 9,
   "metadata": {},
   "outputs": [
    {
     "data": {
      "text/plain": [
       "'[Jaxon, alien]'"
      ]
     },
     "execution_count": 9,
     "metadata": {},
     "output_type": "execute_result"
    }
   ],
   "source": [
    "ENTITIES = \"\"\"Give me each entities which are in the sentences\n",
    "\n",
    "Context: I give you some sentences and you should give me each entities in this sentences. An entity is a noun in the sentences. Some time there two nouns that references to the same entity in that case give me the more specific entity. \n",
    "\n",
    "Sentences:\n",
    "Once upon a time , there was a brave young girl named Swifty who lived in a small village at the edge of a mysterious forest\n",
    "Entities:\n",
    "[Swifty, village, forest]\n",
    "\n",
    "Sentences:\n",
    "One day, while Swifty was exploring deep in the forest, she stumbled upon a beautiful little boy with bright blue eyes and a mischievous smile. The boy said his name was Fiddly and he had been living in the forest for as long as he could remember\n",
    "Entities:\n",
    "[Swifty, Fiddly, forest]\n",
    "\n",
    "Sentences:\n",
    "The next day, Astro was ready to go. He was dressed in a space suit and equipped with all the tools he would need to explore the stars\n",
    "Entities:\n",
    "[Astro, space suit, tools, stars]\n",
    "\n",
    "Sentences:\n",
    "Jaxon decided to take a closer look and as he approached the spaceship, a strange voice called out to him. Jaxon turned around and saw a short, green alien with three eyes and a toothy smile\n",
    "Entities:\n",
    "[Jaxon, spaceship, alien]\n",
    "\n",
    "Sentences:\n",
    "{sentences}\n",
    "Entities:\n",
    "\"\"\"\n",
    "\n",
    "tmodel.text2text(ENTITIES.format(sentences= frames[8]))"
   ]
  },
  {
   "cell_type": "code",
   "execution_count": 5,
   "metadata": {},
   "outputs": [],
   "source": [
    "PROMPT = \"\"\"I need you think step by step. \n",
    "I will give you one or two sentences of some children's story. \n",
    "So, I want you first understand the situation these sentences try to describe. \n",
    "Then I need you to image all context around this situation, how many people are there, where are there, how are there.\n",
    "It's very important you should be careful with the information in the sentence. \n",
    "I mean you shouldn't add thing that they aren't in the sentence. \n",
    "You only have to image the distribution of the element in the sentence in the image's space \n",
    "Finally after that given a vary detail description of some photo of this situation. \n",
    "\n",
    "Sentences:\n",
    "{sentences}\n",
    "\n",
    "Image Description:\n",
    "\"\"\"\n",
    "\n",
    "# hyper = OpenAITextModelConfig(temperature=0.3)\n",
    "# prompt = tmodel.text2text(PROMPT.format(sentences = frames[0]), hyper)\n",
    "\n",
    "# print_texts(frames[0])\n",
    "# print('=========================================================================')\n",
    "# print_texts(prompt)"
   ]
  },
  {
   "cell_type": "code",
   "execution_count": 6,
   "metadata": {},
   "outputs": [],
   "source": [
    "PROMPT = \"\"\"It's a bot to traduce sentences of a children's story in image\n",
    "\n",
    "Context: It's part of an app to generate illustrated children's story. \n",
    "So the bot receives some sentences of a children's story and the previos images description.\n",
    "It also receives a process to think step by step for generating the description of the image which illustrates the situation is described in those sentences. \n",
    "In addition the bot receives some rules which they can't be broken for generating the description image.\n",
    "Finally it given us a very detail description of some photo of this situation. \n",
    "\n",
    "Process for generating the description step by step:\n",
    "1 - Read the sentence and to understand the situation those sentences try to describe.\n",
    "2 - Read the previous image description to understand the origin of this situation.\n",
    "3 - Imagine all the context around this situation, how many people there are, where they are, how they are. Always being consistent with the context of the previous image.\n",
    "4 - Being consistent with the context of the previous image and following the rules of generation that are marked. Generate a very detailed description of an image that can capture the full meaning of the situation described in the sentences. \n",
    "\n",
    "Rules:\n",
    "- It have to be careful with the information in the sentence. In the final description, there don't have to be things which aren't in the sentences\n",
    "- It have to be careful with how many people there are in the sentences. If the sentences talk only about one person, in the description can't be more than one\n",
    "- It have to pay attention when the sentence talk only about a part of something. In that case the description should make emphasis in this part even it could omit the subject  \n",
    "- It have to describe people with their backs turned whenever the context of the sentences allows it\n",
    "\n",
    "Previous Image Description:\n",
    "{description}\n",
    "\n",
    "Sentences:\n",
    "{sentences}\n",
    "\n",
    "Image Description:\n",
    "\"\"\"\n"
   ]
  },
  {
   "cell_type": "code",
   "execution_count": 19,
   "metadata": {},
   "outputs": [
    {
     "data": {
      "text/plain": [
       "'Hola daniel'"
      ]
     },
     "execution_count": 19,
     "metadata": {},
     "output_type": "execute_result"
    }
   ],
   "source": [
    "a = \"Hola {name}\"\n",
    "\n",
    "a.format(name = 'daniel', lastname='Orlando')\n",
    "a.format_map({\"name\" : 'daniel', \"lastname\":'Orlando'})"
   ]
  },
  {
   "cell_type": "code",
   "execution_count": 7,
   "metadata": {},
   "outputs": [],
   "source": [
    "\n",
    "PROMPT = \"\"\"It's a bot to traduce sentences of a children's story in image\n",
    "\n",
    "Context: It's part of an app to generate illustrated children's story. \n",
    "So the bot receives some sentences of a children's story and the previos images description.\n",
    "It also receives a process to think step by step for generating the description of the image which illustrates the situation is described in those sentences. \n",
    "In addition the bot receives some rules which they can't be broken for generating the description image.\n",
    "In addition the bot receives a structure for generating the description. \n",
    "Finally it given us a very detail description of some photo of this situation. \n",
    "\n",
    "Process for generating the description step by step:\n",
    "1 - Read the sentences and find the four main elements needed to construct an image. The main action of the text, who performs it, who or what is the goal of this action and where it takes place.\n",
    "2 - Read the description of the previous image to compare the contexts of the situations, to understand how the transition from one image to the other occurs and to keep the description of the characters, if both sentences speak of the same people.\n",
    "3 - Decide whether the sentences speak of a continuation of the previous image or describe a different context. If the context is different, imagine the context.\n",
    "4 - Imagine a photo in which you can see how the protagonist of the detected action performs that action within the detected context and being consistent with the selected context of the step 3.\n",
    "5 - Being coherent with the selected context of the step 3 and following the rules of generation that are marked. Generating a very detailed description of an image, based on the described structure, that can capture the full meaning of the situation described in the sentences. \n",
    "\n",
    "Rules:\n",
    "- It have to be careful with the information in the sentence. In the final description, there don't have to be things which aren't in the sentences\n",
    "- It have to be careful with how many people there are in the sentences. If the sentences talk only about one person, in the description can't be more than one\n",
    "- It have to pay attention when the sentence talk only about a part of something. In that case the description should make emphasis in this part even it could omit the subject  \n",
    "- It have to describe people with their backs turned whenever the context of the sentences allows it\n",
    "\n",
    "Previous Image Description:\n",
    "{description}\n",
    "\n",
    "Sentences:\n",
    "{sentences}\n",
    "\n",
    "Image Description Structure:\n",
    "((<very shot and expressive summary of sentences, this summary express the main actors and the main action>)). <Very detail description of the image>\n",
    "\n",
    "Image Description:\n",
    "\"\"\""
   ]
  },
  {
   "cell_type": "code",
   "execution_count": 8,
   "metadata": {},
   "outputs": [],
   "source": [
    "FORMATTER = \"\"\"It's a complement of the bot to traduce sentences of a children's story in image\n",
    "\n",
    "Context: There is a bot that receives some sentences of a children's story and return the description of an image which show the frame of the story which is described in the sentences.\n",
    "But the images' prompt need to have an specific structure, so this complement is a function to transform the description to image prompt with a better structure.\n",
    "This bot receives the sentences and the image description then return an image prompt with a better structure.\n",
    "The structure of image prompt is defined like a text which start with the main image information, action or topic between parenthesis and after that there is a very detail image description   \n",
    "\n",
    "Sentences:\n",
    "Once upon a time there was a young girl named Lily who loved to explore the forest near her home.\n",
    "\n",
    "Description:\n",
    "Lily exploring the forest. Lily is standing in a clearing in the forest, wearing a red dress and a matching red hat, her hands clasped in front of her in excitement. She has a look of wonder on her face as she takes in the beauty of the trees around her. The sun is shining down, casting a warm light through the leaves. In the background, a large tree can be seen, its trunk stretching up to the sky.\n",
    "\n",
    "Image Prompt:\n",
    "((Lily in the forest near to a home)). Lily is standing in a clearing in the forest, wearing a red dress and a matching red hat, her hands clasped in front of her in excitement. She has a look of wonder on her face as she takes in the beauty of the trees around her. The sun is shining down, casting a warm light through the leaves. In the background, a large tree can be seen, its trunk stretching up to the sky.\n",
    "\n",
    "Sentences:\n",
    "Every day, the child would take a basket and go deep into the forest to find new plants and animals.\n",
    "\n",
    "Description:\n",
    "The child stands in the middle of the forest, with a basket in one hand, looking around with curiosity and a sense of adventure. The sun is setting in the background, painting the sky in a beautiful pink and orange hue. The child wears a light blue dress, a backpack on their back, and looks around, ready to explore the depths of the forest and find new plants and animals.\n",
    "\n",
    "Image Prompt:\n",
    "((A child with basket is watching plants and animals in the forest)). The child stands in the middle of the forest, with a basket in one hand, looking around with curiosity and a sense of adventure. The sun is setting in the background, painting the sky in a beautiful pink and orange hue. The child wears a light blue dress, a backpack on their back, and looks around, ready to explore the depths of the forest and find new plants and animals.\n",
    "\n",
    "Sentences:\n",
    "{sentences}\n",
    "\n",
    "Description:\n",
    "{description}\n",
    "\n",
    "Image Prompt:\n",
    "\"\"\""
   ]
  },
  {
   "cell_type": "code",
   "execution_count": 9,
   "metadata": {},
   "outputs": [],
   "source": [
    "FORMATTER = \"\"\"It's a complement of the bot to traduce sentences of a children's story in image\n",
    "\n",
    "Context: There is a bot that receives some sentences of a children's story and return the description of an image which show the frame of the story which is described in the sentences.\n",
    "But the images' prompt need to have an specific structure, so this complement is a function to transform the description to image prompt with a better structure.\n",
    "This bot receives the sentences and the image description then return an image prompt with a better structure.\n",
    "The structure of image prompt is defined like a text which start with a sentences of main image information, action or topic where each noun are between parenthesis and after that there is a very detail image description   \n",
    "\n",
    "Sentences:\n",
    "Once upon a time there was a young girl named Lily who loved to explore the forest near her home.\n",
    "\n",
    "Description:\n",
    "Lily exploring the forest. Lily is standing in a clearing in the forest, wearing a red dress and a matching red hat, her hands clasped in front of her in excitement. She has a look of wonder on her face as she takes in the beauty of the trees around her. The sun is shining down, casting a warm light through the leaves. In the background, a large tree can be seen, its trunk stretching up to the sky.\n",
    "\n",
    "Image Prompt:\n",
    "((Lily)) in the ((forest)) near to a ((home)). Lily is standing in a clearing in the forest, wearing a red dress and a matching red hat, her hands clasped in front of her in excitement. She has a look of wonder on her face as she takes in the beauty of the trees around her. The sun is shining down, casting a warm light through the leaves. In the background, a large tree can be seen, its trunk stretching up to the sky.\n",
    "\n",
    "Sentences:\n",
    "Every day, the child would take a basket and go deep into the forest to find new plants and animals.\n",
    "\n",
    "Description:\n",
    "The child stands in the middle of the forest, with a basket in one hand, looking around with curiosity and a sense of adventure. The sun is setting in the background, painting the sky in a beautiful pink and orange hue. The child wears a light blue dress, a backpack on their back, and looks around, ready to explore the depths of the forest and find new plants and animals.\n",
    "\n",
    "Image Prompt:\n",
    "A ((child)) with ((basket)) is watching ((plants)) and ((animals)) in the ((forest)). The child stands in the middle of the forest, with a basket in one hand, looking around with curiosity and a sense of adventure. The sun is setting in the background, painting the sky in a beautiful pink and orange hue. The child wears a light blue dress, a backpack on their back, and looks around, ready to explore the depths of the forest and find new plants and animals.\n",
    "\n",
    "Sentences:\n",
    "{sentences}\n",
    "\n",
    "Description:\n",
    "{description}\n",
    "\n",
    "Image Prompt:\n",
    "\"\"\"\n"
   ]
  },
  {
   "cell_type": "code",
   "execution_count": 10,
   "metadata": {},
   "outputs": [],
   "source": [
    "NEGATIVE_TEMPLATE = (\n",
    "'low quality, extra fingers, missing fingers',   \n",
    "'bad anatomy, mutilations, deformations, ugly',\n",
    "'text, too dark, too sharp, unclear, underexposed' \n",
    "'undeveloped, watermark ugly, low quality, missing fingers',\n",
    "'too many fingers, missing limbs, extra limbs, warped, mutilated', \n",
    "'blurry, texts, watermarks, overexposed, too dark',\n",
    "'disconected limbs, ((((mutated hands and fingers)))), missing limbs' \n",
    "'(((fake leg))), contortionist, contorted limbs, (body merged), disjointed' \n",
    "'floating limbs, (malformed hands), (((extra limb)), (((extra fingers))), ((bad anatomy))',\n",
    "'(incomplete face), (scribble), (((disfigured))), dead, ((blurry)), (((incorrect)))',\n",
    "'((deformed)), (mutated),(mutation), disgusting'\n",
    ")\n",
    "\n",
    "class ImageManager:\n",
    "    def __init__(self, prompt) -> None:\n",
    "        self.prompt = prompt\n",
    "        self.previous_prompt = ''\n",
    "        self.previous_description = ''\n",
    "        self.style =  \" Studio ghibli, pixar and disney animation, 3 d, sharp, rendered in enscape, anime key art by greg rutkowski, bloom, Soft lighting\"\n",
    "        self.negative = ','.join(NEGATIVE_TEMPLATE)\n",
    "\n",
    "    def pipeline(self, frame):\n",
    "        # hyper = OpenAITextModelConfig(temperature=0.3)\n",
    "        self.previous_description = tmodel.text2text(PROMPT.format(sentences = frame, description = self.previous_description))\n",
    "        self.previous_prompt = tmodel.text2text(FORMATTER.format(sentences = frame, description = self.previous_description))\n",
    "        \n",
    "        print_texts(frame)\n",
    "        print('=========================================================================')\n",
    "        print_texts(self.previous_prompt)\n",
    "\n",
    "        return imodel.text2image(self.previous_prompt + self.style, neg=self.negative)\n",
    "    \n",
    "im = ImageManager(PROMPT)"
   ]
  },
  {
   "cell_type": "code",
   "execution_count": 11,
   "metadata": {},
   "outputs": [
    {
     "name": "stdout",
     "output_type": "stream",
     "text": [
      "Once upon a time there lived a young child who loved exploring the forest.\n",
      ".\n",
      "=========================================================================\n",
      "A ((child)) wearing a ((cap)) exploring the ((forest)).\n",
      "A young child, full of curiosity and enthusiasm, is looking around a forest, exploring the different details of its surroundings.\n",
      "The child has a backpack on their back and is wearing a cap that shows their adventurous spirit.\n",
      "The child is standing in the middle of a clearing and surrounded by tall trees and lush green plants.\n",
      "The sun is shining brightly, giving the forest an enchanted look.\n",
      "The child is standing on a carpet of moss and fallen leaves, with curiosity and excitement in their eyes.\n",
      ".\n",
      "......... saving seed 81319064\n"
     ]
    },
    {
     "data": {
      "text/html": [
       "<img src=\"https://pub-8b49af329fae499aa563997f5d4068a4.r2.dev/generations/86f4fe4c-0cbd-4206-9bfa-d5ad4922c7d1-0.png\"/>"
      ],
      "text/plain": [
       "<IPython.core.display.Image object>"
      ]
     },
     "execution_count": 11,
     "metadata": {},
     "output_type": "execute_result"
    }
   ],
   "source": [
    "im.pipeline(frames[0])"
   ]
  },
  {
   "cell_type": "code",
   "execution_count": 12,
   "metadata": {},
   "outputs": [
    {
     "name": "stdout",
     "output_type": "stream",
     "text": [
      "One day, when the child was walking in the forest, they stumbled upon a clearing.\n",
      ".\n",
      "=========================================================================\n",
      "A ((child)) walking in the ((forest)) and discovering a ((clearing)) surrounded by tall trees and lush green plants with the sun shining brightly.\n",
      "They are standing in the middle of the clearing, wearing a backpack and cap.\n",
      "The child is standing on a carpet of moss and fallen leaves, curiosity and excitement on their face.\n",
      ".\n",
      "......... generate by seed 81319064\n"
     ]
    },
    {
     "data": {
      "text/html": [
       "<img src=\"https://pub-8b49af329fae499aa563997f5d4068a4.r2.dev/generations/ba9fbabe-4d23-42c1-8efe-e730736fcba0-0.png\"/>"
      ],
      "text/plain": [
       "<IPython.core.display.Image object>"
      ]
     },
     "execution_count": 12,
     "metadata": {},
     "output_type": "execute_result"
    }
   ],
   "source": [
    "im.pipeline(frames[1])"
   ]
  },
  {
   "cell_type": "code",
   "execution_count": 13,
   "metadata": {},
   "outputs": [
    {
     "name": "stdout",
     "output_type": "stream",
     "text": [
      "In the middle of the clearing was a small pond, surrounded by lush trees and wildflowers.\n",
      ".\n",
      "=========================================================================\n",
      "A ((child)) standing in a ((clearing)) with a ((pond)) surrounded by ((trees)), ((wildflowers)) and ((lush vegetation)).\n",
      "The child stands in awe of the small pond in the middle of the clearing, surrounded by tall trees, wildflowers, and lush vegetation.\n",
      "The sun is shining brightly on the child, who is wearing a backpack and cap.\n",
      "The child stands on a soft carpet of moss and fallen leaves, and the curiosity and excitement on their face is evident.\n",
      "The pond is small and surrounded by tall trees, with wildflowers and lush vegetation growing around it.\n",
      "The sun is shining down on the pond, making the water look like it is sparkling.\n",
      ".\n",
      "......... generate by seed 81319064\n"
     ]
    },
    {
     "data": {
      "text/html": [
       "<img src=\"https://pub-8b49af329fae499aa563997f5d4068a4.r2.dev/generations/805a92f5-4289-4e58-9b1e-71f85682d096-0.png\"/>"
      ],
      "text/plain": [
       "<IPython.core.display.Image object>"
      ]
     },
     "execution_count": 13,
     "metadata": {},
     "output_type": "execute_result"
    }
   ],
   "source": [
    "im.pipeline(frames[2])"
   ]
  },
  {
   "cell_type": "code",
   "execution_count": 14,
   "metadata": {},
   "outputs": [
    {
     "name": "stdout",
     "output_type": "stream",
     "text": [
      "The child was mesmerized by the beauty of the pond and decided to take a closer look.\n",
      ".\n",
      "=========================================================================\n",
      "A ((child)) is observing a ((pond)) in the ((forest)) with ((curiosity)) and ((excitement)).\n",
      "The child is mesmerized by the beauty of the pond and takes a step forward to take a closer look.\n",
      "The child stands in the middle of the clearing, surrounded by tall trees, wildflowers, and lush vegetation.\n",
      "The sun is shining brightly on the child, who is wearing a backpack and cap.\n",
      "The child takes a step forward, their eyes wide with awe and curiosity as they take in the beauty of the small pond.\n",
      "The pond is surrounded by tall trees and lush vegetation, with wildflowers growing around it.\n",
      "The sun is shining down on the pond, making the water look like it is sparkling.\n",
      "The child stands on a soft carpet of moss and fallen leaves, and the curiosity and excitement on their face is evident as they take a closer look.\n",
      ".\n",
      "......... generate by seed 81319064\n"
     ]
    },
    {
     "data": {
      "text/html": [
       "<img src=\"https://pub-8b49af329fae499aa563997f5d4068a4.r2.dev/generations/f1cdc4f6-810a-46d8-a7f4-b7d22579f3f2-0.png\"/>"
      ],
      "text/plain": [
       "<IPython.core.display.Image object>"
      ]
     },
     "execution_count": 14,
     "metadata": {},
     "output_type": "execute_result"
    }
   ],
   "source": [
    "im.pipeline(frames[3])"
   ]
  },
  {
   "cell_type": "code",
   "execution_count": 15,
   "metadata": {},
   "outputs": [
    {
     "name": "stdout",
     "output_type": "stream",
     "text": [
      "As the child approached the pond, they noticed something unusual.\n",
      ".\n",
      "=========================================================================\n",
      "A ((child)) is ((discovering)) a ((gem)) in a ((pond)) surrounded by ((trees)) and ((vegetation)).\n",
      "The child takes a step forward, their eyes filled with curiosity and excitement as they approach the pond.\n",
      "They notice something unusual in the sparkling water - a small, bright object that catches the light of the sun.\n",
      "The child kneels down and, with cautious curiosity, reaches into the water to pick up the object.\n",
      "They stand up and inspect it, their eyes widening with amazement as they realize it is a small, bright gem.\n",
      "Surrounded by tall trees and lush vegetation, the child holds the gem in their hands, their face full of wonder and amazement.\n",
      ".\n",
      "......... generate by seed 81319064\n"
     ]
    },
    {
     "data": {
      "text/html": [
       "<img src=\"https://pub-8b49af329fae499aa563997f5d4068a4.r2.dev/generations/82b6474b-4a2f-4864-ab6d-b0d77ce4d4c1-0.png\"/>"
      ],
      "text/plain": [
       "<IPython.core.display.Image object>"
      ]
     },
     "execution_count": 15,
     "metadata": {},
     "output_type": "execute_result"
    }
   ],
   "source": [
    "im.pipeline(frames[4])"
   ]
  },
  {
   "cell_type": "code",
   "execution_count": 16,
   "metadata": {},
   "outputs": [
    {
     "name": "stdout",
     "output_type": "stream",
     "text": [
      "There was a small, golden fish swimming in the pond.\n",
      ".\n",
      "=========================================================================\n",
      "A ((child)) is watching a ((golden)) fish in a ((pond)).\n",
      "The child stands by the pond, eyes wide in surprise as they watch a small, golden fish swimming in the water.\n",
      "The fish gleams in the sun, its scales shimmering and reflecting the light in a brilliant display.\n",
      "The child kneels beside the pond and reaches out, their curiosity getting the better of them as they try to catch the fish.\n",
      "They watch with amazement as the fish darts away, swimming in and out of the shadows of the tall trees.\n",
      "The child stares at the pond, the gem they found still clutched in their hands, their face full of wonder and awe as they watch the golden fish.\n",
      ".\n",
      "......... generate by seed 81319064\n"
     ]
    },
    {
     "data": {
      "text/html": [
       "<img src=\"https://pub-8b49af329fae499aa563997f5d4068a4.r2.dev/generations/26eca06d-dc50-4ce7-a80a-be9cede4a53d-0.png\"/>"
      ],
      "text/plain": [
       "<IPython.core.display.Image object>"
      ]
     },
     "execution_count": 16,
     "metadata": {},
     "output_type": "execute_result"
    }
   ],
   "source": [
    "im.pipeline(frames[5])"
   ]
  },
  {
   "cell_type": "code",
   "execution_count": 17,
   "metadata": {},
   "outputs": [
    {
     "name": "stdout",
     "output_type": "stream",
     "text": [
      "The child was so excited to see the golden fish that they ran up to the edge of the pond.\n",
      ".\n",
      "=========================================================================\n",
      "A ((child)) with ((golden fish)) in the ((pond)).\n",
      "The child is filled with excitement as they run up to the edge of the pond, their eyes wide with anticipation.\n",
      "They kneel on the ground, the gem still clutched in their hands.\n",
      "They reach out, their fingers inches away from the golden fish, which is swimming in and out of the shadows of the tall trees.\n",
      "The sun reflects off the fish's scales, making them glimmer and shine.\n",
      "The child's face is a portrait of wonder and awe, and they watch in amazement as the golden fish darts away.\n",
      ".\n",
      "......... generate by seed 81319064\n"
     ]
    },
    {
     "data": {
      "text/html": [
       "<img src=\"https://pub-8b49af329fae499aa563997f5d4068a4.r2.dev/generations/31ac0cef-5640-47b0-bbda-dc91972cb2dc-0.png\"/>"
      ],
      "text/plain": [
       "<IPython.core.display.Image object>"
      ]
     },
     "execution_count": 17,
     "metadata": {},
     "output_type": "execute_result"
    }
   ],
   "source": [
    "im.pipeline(frames[6])"
   ]
  },
  {
   "cell_type": "code",
   "execution_count": null,
   "metadata": {},
   "outputs": [],
   "source": []
  }
 ],
 "metadata": {
  "kernelspec": {
   "display_name": "ai-env",
   "language": "python",
   "name": "ai-env"
  },
  "language_info": {
   "codemirror_mode": {
    "name": "ipython",
    "version": 3
   },
   "file_extension": ".py",
   "mimetype": "text/x-python",
   "name": "python",
   "nbconvert_exporter": "python",
   "pygments_lexer": "ipython3",
   "version": "3.11.2"
  },
  "orig_nbformat": 4
 },
 "nbformat": 4,
 "nbformat_minor": 2
}
